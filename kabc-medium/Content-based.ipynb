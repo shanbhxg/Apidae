{
  "cells": [
    {
      "cell_type": "markdown",
      "metadata": {
        "id": "WYjs5pU4z7bF"
      },
      "source": [
        "## Importing libraries"
      ]
    },
    {
      "cell_type": "code",
      "execution_count": 347,
      "metadata": {
        "id": "uSHYJlLei9e-",
        "scrolled": true
      },
      "outputs": [],
      "source": [
        "import pandas as pd\n",
        "import numpy as np\n",
        "import nltk\n"
      ]
    },
    {
      "cell_type": "markdown",
      "metadata": {
        "id": "JyC91KDx0SqW"
      },
      "source": [
        "## Load the data"
      ]
    },
    {
      "cell_type": "markdown",
      "metadata": {
        "id": "CKuHzu_nRUMx"
      },
      "source": [
        "Loading the jobs dataset"
      ]
    },
    {
      "cell_type": "code",
      "execution_count": 348,
      "metadata": {},
      "outputs": [],
      "source": [
        "import random"
      ]
    },
    {
      "cell_type": "code",
      "execution_count": 349,
      "metadata": {
        "colab": {
          "base_uri": "https://localhost:8080/",
          "height": 620
        },
        "id": "fzMLhbXv0KwW",
        "outputId": "ea0d41c2-b24b-4af4-c480-bab69b1e5567"
      },
      "outputs": [
        {
          "data": {
            "text/html": [
              "<div>\n",
              "<style scoped>\n",
              "    .dataframe tbody tr th:only-of-type {\n",
              "        vertical-align: middle;\n",
              "    }\n",
              "\n",
              "    .dataframe tbody tr th {\n",
              "        vertical-align: top;\n",
              "    }\n",
              "\n",
              "    .dataframe thead th {\n",
              "        text-align: right;\n",
              "    }\n",
              "</style>\n",
              "<table border=\"1\" class=\"dataframe\">\n",
              "  <thead>\n",
              "    <tr style=\"text-align: right;\">\n",
              "      <th></th>\n",
              "      <th>Job.ID</th>\n",
              "      <th>Provider</th>\n",
              "      <th>Status</th>\n",
              "      <th>Slug</th>\n",
              "      <th>Title</th>\n",
              "      <th>Position</th>\n",
              "      <th>Company</th>\n",
              "      <th>City</th>\n",
              "      <th>State.Name</th>\n",
              "      <th>State.Code</th>\n",
              "      <th>...</th>\n",
              "      <th>Industry</th>\n",
              "      <th>Job.Description</th>\n",
              "      <th>Requirements</th>\n",
              "      <th>Salary</th>\n",
              "      <th>Listing.Start</th>\n",
              "      <th>Listing.End</th>\n",
              "      <th>Employment.Type</th>\n",
              "      <th>Education.Required</th>\n",
              "      <th>Created.At</th>\n",
              "      <th>Updated.At</th>\n",
              "    </tr>\n",
              "  </thead>\n",
              "  <tbody>\n",
              "    <tr>\n",
              "      <th>10675</th>\n",
              "      <td>151425</td>\n",
              "      <td>2</td>\n",
              "      <td>open</td>\n",
              "      <td>bandon-or-dollar-tree-stores-assistant-manager</td>\n",
              "      <td>ASSISTANT MANAGER @ Dollar Tree Stores</td>\n",
              "      <td>ASSISTANT MANAGER</td>\n",
              "      <td>Dollar Tree Stores</td>\n",
              "      <td>Bandon</td>\n",
              "      <td>Oregon</td>\n",
              "      <td>OR</td>\n",
              "      <td>...</td>\n",
              "      <td>NaN</td>\n",
              "      <td>Assistant Store Managers at Dollar Tree are re...</td>\n",
              "      <td>NaN</td>\n",
              "      <td>NaN</td>\n",
              "      <td>NaN</td>\n",
              "      <td>01-12-2015</td>\n",
              "      <td>Part-Time</td>\n",
              "      <td>Not Specified</td>\n",
              "      <td>2014-12-15 15:53:24 UTC</td>\n",
              "      <td>2014-12-15 15:53:24 UTC</td>\n",
              "    </tr>\n",
              "    <tr>\n",
              "      <th>13409</th>\n",
              "      <td>213825</td>\n",
              "      <td>1</td>\n",
              "      <td>open</td>\n",
              "      <td>silverlake-ca-orderahead-delivery-team-courier...</td>\n",
              "      <td>Delivery Team Couriers (Drivers and Bikers) @ ...</td>\n",
              "      <td>Delivery Team Couriers (Drivers and Bikers)</td>\n",
              "      <td>OrderAhead</td>\n",
              "      <td>Silverlake</td>\n",
              "      <td>California</td>\n",
              "      <td>CA</td>\n",
              "      <td>...</td>\n",
              "      <td>Transportation</td>\n",
              "      <td>Join a team of delivery all stars! We are look...</td>\n",
              "      <td>NaN</td>\n",
              "      <td>NaN</td>\n",
              "      <td>2015-02-01 08:00:29 UTC</td>\n",
              "      <td>2015-03-01 08:00:29 UTC</td>\n",
              "      <td>Part-Time</td>\n",
              "      <td>NaN</td>\n",
              "      <td>2015-02-01 08:01:34 UTC</td>\n",
              "      <td>2015-02-01 08:01:34 UTC</td>\n",
              "    </tr>\n",
              "    <tr>\n",
              "      <th>23636</th>\n",
              "      <td>253165</td>\n",
              "      <td>2</td>\n",
              "      <td>open</td>\n",
              "      <td>denville-nj-officeteam-general-office-clerk-25...</td>\n",
              "      <td>General Office Clerk @ OfficeTeam</td>\n",
              "      <td>General Office Clerk</td>\n",
              "      <td>OfficeTeam</td>\n",
              "      <td>Denville</td>\n",
              "      <td>New Jersey</td>\n",
              "      <td>NJ</td>\n",
              "      <td>...</td>\n",
              "      <td>NaN</td>\n",
              "      <td>Ref ID: 02751-001638Classification: General Of...</td>\n",
              "      <td>NaN</td>\n",
              "      <td>NaN</td>\n",
              "      <td>27-02-2015</td>\n",
              "      <td>26-03-2015</td>\n",
              "      <td>Seasonal/Temp</td>\n",
              "      <td>Not Specified</td>\n",
              "      <td>2015-02-28 10:28:36 UTC</td>\n",
              "      <td>2015-02-28 10:28:36 UTC</td>\n",
              "    </tr>\n",
              "    <tr>\n",
              "      <th>77643</th>\n",
              "      <td>311408</td>\n",
              "      <td>2</td>\n",
              "      <td>open</td>\n",
              "      <td>indianapolis-in-st-vincent-hospice-hospice-cna...</td>\n",
              "      <td>Hospice CNA / In Patient Unirt @ St Vincent Ho...</td>\n",
              "      <td>Hospice CNA / In Patient Unirt</td>\n",
              "      <td>St Vincent Hospice</td>\n",
              "      <td>Indianapolis</td>\n",
              "      <td>Indiana</td>\n",
              "      <td>IN</td>\n",
              "      <td>...</td>\n",
              "      <td>NaN</td>\n",
              "      <td>POSITION SUMMARY\\r\\n&amp;nbsp;\\r\\nUnder the superv...</td>\n",
              "      <td>NaN</td>\n",
              "      <td>NaN</td>\n",
              "      <td>10-04-2015</td>\n",
              "      <td>09-05-2015</td>\n",
              "      <td>Full-Time/Part-Time</td>\n",
              "      <td>Not Specified</td>\n",
              "      <td>2015-04-11 10:18:55 UTC</td>\n",
              "      <td>2015-04-11 10:18:55 UTC</td>\n",
              "    </tr>\n",
              "    <tr>\n",
              "      <th>81270</th>\n",
              "      <td>316463</td>\n",
              "      <td>2</td>\n",
              "      <td>open</td>\n",
              "      <td>georgetown-de-bayada-home-health-care-pediatri...</td>\n",
              "      <td>Pediatric –  RN / LPN @ BAYADA HOME HEALTH CARE</td>\n",
              "      <td>Pediatric –  RN / LPN</td>\n",
              "      <td>BAYADA HOME HEALTH CARE</td>\n",
              "      <td>Georgetown</td>\n",
              "      <td>Delaware</td>\n",
              "      <td>DE</td>\n",
              "      <td>...</td>\n",
              "      <td>NaN</td>\n",
              "      <td>Are you a RN / LPN interested in making a diff...</td>\n",
              "      <td>NaN</td>\n",
              "      <td>NaN</td>\n",
              "      <td>14-04-2015</td>\n",
              "      <td>13-05-2015</td>\n",
              "      <td>Full-Time/Part-Time</td>\n",
              "      <td>Associate Degree</td>\n",
              "      <td>2015-04-15 10:17:22 UTC</td>\n",
              "      <td>2015-04-15 10:17:22 UTC</td>\n",
              "    </tr>\n",
              "  </tbody>\n",
              "</table>\n",
              "<p>5 rows × 23 columns</p>\n",
              "</div>"
            ],
            "text/plain": [
              "       Job.ID  Provider Status  \\\n",
              "10675  151425         2   open   \n",
              "13409  213825         1   open   \n",
              "23636  253165         2   open   \n",
              "77643  311408         2   open   \n",
              "81270  316463         2   open   \n",
              "\n",
              "                                                    Slug  \\\n",
              "10675     bandon-or-dollar-tree-stores-assistant-manager   \n",
              "13409  silverlake-ca-orderahead-delivery-team-courier...   \n",
              "23636  denville-nj-officeteam-general-office-clerk-25...   \n",
              "77643  indianapolis-in-st-vincent-hospice-hospice-cna...   \n",
              "81270  georgetown-de-bayada-home-health-care-pediatri...   \n",
              "\n",
              "                                                   Title  \\\n",
              "10675             ASSISTANT MANAGER @ Dollar Tree Stores   \n",
              "13409  Delivery Team Couriers (Drivers and Bikers) @ ...   \n",
              "23636                  General Office Clerk @ OfficeTeam   \n",
              "77643  Hospice CNA / In Patient Unirt @ St Vincent Ho...   \n",
              "81270    Pediatric –  RN / LPN @ BAYADA HOME HEALTH CARE   \n",
              "\n",
              "                                          Position                  Company  \\\n",
              "10675                            ASSISTANT MANAGER       Dollar Tree Stores   \n",
              "13409  Delivery Team Couriers (Drivers and Bikers)               OrderAhead   \n",
              "23636                         General Office Clerk               OfficeTeam   \n",
              "77643               Hospice CNA / In Patient Unirt       St Vincent Hospice   \n",
              "81270                        Pediatric –  RN / LPN  BAYADA HOME HEALTH CARE   \n",
              "\n",
              "               City  State.Name State.Code  ...        Industry  \\\n",
              "10675        Bandon      Oregon         OR  ...             NaN   \n",
              "13409    Silverlake  California         CA  ...  Transportation   \n",
              "23636      Denville  New Jersey         NJ  ...             NaN   \n",
              "77643  Indianapolis     Indiana         IN  ...             NaN   \n",
              "81270    Georgetown    Delaware         DE  ...             NaN   \n",
              "\n",
              "                                         Job.Description  Requirements Salary  \\\n",
              "10675  Assistant Store Managers at Dollar Tree are re...           NaN    NaN   \n",
              "13409  Join a team of delivery all stars! We are look...           NaN    NaN   \n",
              "23636  Ref ID: 02751-001638Classification: General Of...           NaN    NaN   \n",
              "77643  POSITION SUMMARY\\r\\n&nbsp;\\r\\nUnder the superv...           NaN    NaN   \n",
              "81270  Are you a RN / LPN interested in making a diff...           NaN    NaN   \n",
              "\n",
              "                 Listing.Start              Listing.End      Employment.Type  \\\n",
              "10675                      NaN               01-12-2015            Part-Time   \n",
              "13409  2015-02-01 08:00:29 UTC  2015-03-01 08:00:29 UTC            Part-Time   \n",
              "23636               27-02-2015               26-03-2015        Seasonal/Temp   \n",
              "77643               10-04-2015               09-05-2015  Full-Time/Part-Time   \n",
              "81270               14-04-2015               13-05-2015  Full-Time/Part-Time   \n",
              "\n",
              "      Education.Required               Created.At               Updated.At  \n",
              "10675      Not Specified  2014-12-15 15:53:24 UTC  2014-12-15 15:53:24 UTC  \n",
              "13409                NaN  2015-02-01 08:01:34 UTC  2015-02-01 08:01:34 UTC  \n",
              "23636      Not Specified  2015-02-28 10:28:36 UTC  2015-02-28 10:28:36 UTC  \n",
              "77643      Not Specified  2015-04-11 10:18:55 UTC  2015-04-11 10:18:55 UTC  \n",
              "81270   Associate Degree  2015-04-15 10:17:22 UTC  2015-04-15 10:17:22 UTC  \n",
              "\n",
              "[5 rows x 23 columns]"
            ]
          },
          "execution_count": 349,
          "metadata": {},
          "output_type": "execute_result"
        }
      ],
      "source": [
        "df = pd.read_csv(\"C:/Users/Srushti/Desktop/capstone/Combined_Jobs_Final.csv\")\n",
        "random.seed(2)\n",
        "df_jobs = df.sample(n=1000)\n",
        "df_jobs.head()"
      ]
    },
    {
      "cell_type": "code",
      "execution_count": 350,
      "metadata": {
        "colab": {
          "base_uri": "https://localhost:8080/"
        },
        "id": "SoKhN_sri9ge",
        "outputId": "95cc2cf8-fa6e-4d97-c799-2bf3cb141869"
      },
      "outputs": [
        {
          "name": "stdout",
          "output_type": "stream",
          "text": [
            "<class 'pandas.core.frame.DataFrame'>\n",
            "Int64Index: 1000 entries, 10675 to 58421\n",
            "Data columns (total 23 columns):\n",
            " #   Column              Non-Null Count  Dtype  \n",
            "---  ------              --------------  -----  \n",
            " 0   Job.ID              1000 non-null   int64  \n",
            " 1   Provider            1000 non-null   int64  \n",
            " 2   Status              1000 non-null   object \n",
            " 3   Slug                1000 non-null   object \n",
            " 4   Title               1000 non-null   object \n",
            " 5   Position            1000 non-null   object \n",
            " 6   Company             974 non-null    object \n",
            " 7   City                999 non-null    object \n",
            " 8   State.Name          998 non-null    object \n",
            " 9   State.Code          998 non-null    object \n",
            " 10  Address             1 non-null      object \n",
            " 11  Latitude            1000 non-null   float64\n",
            " 12  Longitude           1000 non-null   float64\n",
            " 13  Industry            7 non-null      object \n",
            " 14  Job.Description     1000 non-null   object \n",
            " 15  Requirements        0 non-null      float64\n",
            " 16  Salary              4 non-null      float64\n",
            " 17  Listing.Start       988 non-null    object \n",
            " 18  Listing.End         996 non-null    object \n",
            " 19  Employment.Type     998 non-null    object \n",
            " 20  Education.Required  993 non-null    object \n",
            " 21  Created.At          1000 non-null   object \n",
            " 22  Updated.At          1000 non-null   object \n",
            "dtypes: float64(4), int64(2), object(17)\n",
            "memory usage: 187.5+ KB\n"
          ]
        }
      ],
      "source": [
        "df_jobs.info()"
      ]
    },
    {
      "cell_type": "markdown",
      "metadata": {
        "id": "AziTs6FDow1g"
      },
      "source": [
        "## Exploratory Data Analysis"
      ]
    },
    {
      "cell_type": "markdown",
      "metadata": {
        "id": "31N1XqJOo3p7"
      },
      "source": [
        "#### First check the NA's"
      ]
    },
    {
      "cell_type": "code",
      "execution_count": 351,
      "metadata": {
        "colab": {
          "base_uri": "https://localhost:8080/"
        },
        "id": "9ITtDXh9i9gs",
        "outputId": "884852a7-f4d0-4b58-d3f6-62f707df7fbe"
      },
      "outputs": [
        {
          "data": {
            "text/plain": [
              "Job.ID                   0\n",
              "Provider                 0\n",
              "Status                   0\n",
              "Slug                     0\n",
              "Title                    0\n",
              "Position                 0\n",
              "Company                 26\n",
              "City                     1\n",
              "State.Name               2\n",
              "State.Code               2\n",
              "Address                999\n",
              "Latitude                 0\n",
              "Longitude                0\n",
              "Industry               993\n",
              "Job.Description          0\n",
              "Requirements          1000\n",
              "Salary                 996\n",
              "Listing.Start           12\n",
              "Listing.End              4\n",
              "Employment.Type          2\n",
              "Education.Required       7\n",
              "Created.At               0\n",
              "Updated.At               0\n",
              "dtype: int64"
            ]
          },
          "execution_count": 351,
          "metadata": {},
          "output_type": "execute_result"
        }
      ],
      "source": [
        "df_jobs.isnull().sum()"
      ]
    },
    {
      "cell_type": "markdown",
      "metadata": {
        "id": "gfhO4KmDi9g3"
      },
      "source": [
        " From the above list we see that there are lot of NaN values, perform data clean\n",
        " ing for each and every column"
      ]
    },
    {
      "cell_type": "markdown",
      "metadata": {
        "id": "Us2LcccOi9g6"
      },
      "source": [
        "#### Selecting the columns for the jobs corpus\n"
      ]
    },
    {
      "cell_type": "markdown",
      "metadata": {
        "id": "tmBudrecpBHX"
      },
      "source": [
        "For this example we only consider the columns: 'Job.ID', 'Title', 'Position', 'Company','City', 'Empl_type','Edu_req','Job_Description'"
      ]
    },
    {
      "cell_type": "code",
      "execution_count": 352,
      "metadata": {
        "colab": {
          "base_uri": "https://localhost:8080/",
          "height": 206
        },
        "id": "29h1RR9ei9iF",
        "outputId": "91002ac2-cf23-4fce-ad0a-37f3cf5dbd60"
      },
      "outputs": [
        {
          "data": {
            "text/html": [
              "<div>\n",
              "<style scoped>\n",
              "    .dataframe tbody tr th:only-of-type {\n",
              "        vertical-align: middle;\n",
              "    }\n",
              "\n",
              "    .dataframe tbody tr th {\n",
              "        vertical-align: top;\n",
              "    }\n",
              "\n",
              "    .dataframe thead th {\n",
              "        text-align: right;\n",
              "    }\n",
              "</style>\n",
              "<table border=\"1\" class=\"dataframe\">\n",
              "  <thead>\n",
              "    <tr style=\"text-align: right;\">\n",
              "      <th></th>\n",
              "      <th>Job.ID</th>\n",
              "      <th>Title</th>\n",
              "      <th>Position</th>\n",
              "      <th>Company</th>\n",
              "      <th>City</th>\n",
              "      <th>Empl_type</th>\n",
              "      <th>Job_Description</th>\n",
              "    </tr>\n",
              "  </thead>\n",
              "  <tbody>\n",
              "    <tr>\n",
              "      <th>10675</th>\n",
              "      <td>151425</td>\n",
              "      <td>ASSISTANT MANAGER @ Dollar Tree Stores</td>\n",
              "      <td>ASSISTANT MANAGER</td>\n",
              "      <td>Dollar Tree Stores</td>\n",
              "      <td>Bandon</td>\n",
              "      <td>Part-Time</td>\n",
              "      <td>Assistant Store Managers at Dollar Tree are re...</td>\n",
              "    </tr>\n",
              "    <tr>\n",
              "      <th>13409</th>\n",
              "      <td>213825</td>\n",
              "      <td>Delivery Team Couriers (Drivers and Bikers) @ ...</td>\n",
              "      <td>Delivery Team Couriers (Drivers and Bikers)</td>\n",
              "      <td>OrderAhead</td>\n",
              "      <td>Silverlake</td>\n",
              "      <td>Part-Time</td>\n",
              "      <td>Join a team of delivery all stars! We are look...</td>\n",
              "    </tr>\n",
              "    <tr>\n",
              "      <th>23636</th>\n",
              "      <td>253165</td>\n",
              "      <td>General Office Clerk @ OfficeTeam</td>\n",
              "      <td>General Office Clerk</td>\n",
              "      <td>OfficeTeam</td>\n",
              "      <td>Denville</td>\n",
              "      <td>Seasonal/Temp</td>\n",
              "      <td>Ref ID: 02751-001638Classification: General Of...</td>\n",
              "    </tr>\n",
              "    <tr>\n",
              "      <th>77643</th>\n",
              "      <td>311408</td>\n",
              "      <td>Hospice CNA / In Patient Unirt @ St Vincent Ho...</td>\n",
              "      <td>Hospice CNA / In Patient Unirt</td>\n",
              "      <td>St Vincent Hospice</td>\n",
              "      <td>Indianapolis</td>\n",
              "      <td>Full-Time/Part-Time</td>\n",
              "      <td>POSITION SUMMARY\\r\\n&amp;nbsp;\\r\\nUnder the superv...</td>\n",
              "    </tr>\n",
              "    <tr>\n",
              "      <th>81270</th>\n",
              "      <td>316463</td>\n",
              "      <td>Pediatric –  RN / LPN @ BAYADA HOME HEALTH CARE</td>\n",
              "      <td>Pediatric –  RN / LPN</td>\n",
              "      <td>BAYADA HOME HEALTH CARE</td>\n",
              "      <td>Georgetown</td>\n",
              "      <td>Full-Time/Part-Time</td>\n",
              "      <td>Are you a RN / LPN interested in making a diff...</td>\n",
              "    </tr>\n",
              "  </tbody>\n",
              "</table>\n",
              "</div>"
            ],
            "text/plain": [
              "       Job.ID                                              Title  \\\n",
              "10675  151425             ASSISTANT MANAGER @ Dollar Tree Stores   \n",
              "13409  213825  Delivery Team Couriers (Drivers and Bikers) @ ...   \n",
              "23636  253165                  General Office Clerk @ OfficeTeam   \n",
              "77643  311408  Hospice CNA / In Patient Unirt @ St Vincent Ho...   \n",
              "81270  316463    Pediatric –  RN / LPN @ BAYADA HOME HEALTH CARE   \n",
              "\n",
              "                                          Position                  Company  \\\n",
              "10675                            ASSISTANT MANAGER       Dollar Tree Stores   \n",
              "13409  Delivery Team Couriers (Drivers and Bikers)               OrderAhead   \n",
              "23636                         General Office Clerk               OfficeTeam   \n",
              "77643               Hospice CNA / In Patient Unirt       St Vincent Hospice   \n",
              "81270                        Pediatric –  RN / LPN  BAYADA HOME HEALTH CARE   \n",
              "\n",
              "               City            Empl_type  \\\n",
              "10675        Bandon            Part-Time   \n",
              "13409    Silverlake            Part-Time   \n",
              "23636      Denville        Seasonal/Temp   \n",
              "77643  Indianapolis  Full-Time/Part-Time   \n",
              "81270    Georgetown  Full-Time/Part-Time   \n",
              "\n",
              "                                         Job_Description  \n",
              "10675  Assistant Store Managers at Dollar Tree are re...  \n",
              "13409  Join a team of delivery all stars! We are look...  \n",
              "23636  Ref ID: 02751-001638Classification: General Of...  \n",
              "77643  POSITION SUMMARY\\r\\n&nbsp;\\r\\nUnder the superv...  \n",
              "81270  Are you a RN / LPN interested in making a diff...  "
            ]
          },
          "execution_count": 352,
          "metadata": {},
          "output_type": "execute_result"
        }
      ],
      "source": [
        "\n",
        "cols = ['Job.ID']+['Title']+['Position']+ ['Company']+['City']+['Employment.Type']+['Job.Description']\n",
        "df_jobs =df_jobs[cols]\n",
        "df_jobs.columns = ['Job.ID', 'Title', 'Position', 'Company','City', 'Empl_type','Job_Description']\n",
        "df_jobs.head()"
      ]
    },
    {
      "cell_type": "code",
      "execution_count": 353,
      "metadata": {
        "colab": {
          "base_uri": "https://localhost:8080/"
        },
        "id": "RXYTSeHPi9iR",
        "outputId": "039e17be-eddc-40af-fdaa-339b6fa2b008"
      },
      "outputs": [
        {
          "data": {
            "text/plain": [
              "Job.ID              0\n",
              "Title               0\n",
              "Position            0\n",
              "Company            26\n",
              "City                1\n",
              "Empl_type           2\n",
              "Job_Description     0\n",
              "dtype: int64"
            ]
          },
          "execution_count": 353,
          "metadata": {},
          "output_type": "execute_result"
        }
      ],
      "source": [
        "# checking for the null values again.\n",
        "df_jobs.isnull().sum()"
      ]
    },
    {
      "cell_type": "markdown",
      "metadata": {
        "id": "HmdmJO9vMemK"
      },
      "source": [
        "#### Let´s check the NA's by plotting them"
      ]
    },
    {
      "cell_type": "markdown",
      "metadata": {
        "id": "smpETsZGpciL"
      },
      "source": [
        "selecting NaN rows of city"
      ]
    },
    {
      "cell_type": "code",
      "execution_count": 354,
      "metadata": {
        "colab": {
          "base_uri": "https://localhost:8080/",
          "height": 310
        },
        "id": "Mwisiu4Si9id",
        "outputId": "b2dcc642-482e-4bd2-c23e-ffcb11f36b30"
      },
      "outputs": [
        {
          "name": "stdout",
          "output_type": "stream",
          "text": [
            "(1, 7)\n"
          ]
        },
        {
          "data": {
            "text/html": [
              "<div>\n",
              "<style scoped>\n",
              "    .dataframe tbody tr th:only-of-type {\n",
              "        vertical-align: middle;\n",
              "    }\n",
              "\n",
              "    .dataframe tbody tr th {\n",
              "        vertical-align: top;\n",
              "    }\n",
              "\n",
              "    .dataframe thead th {\n",
              "        text-align: right;\n",
              "    }\n",
              "</style>\n",
              "<table border=\"1\" class=\"dataframe\">\n",
              "  <thead>\n",
              "    <tr style=\"text-align: right;\">\n",
              "      <th></th>\n",
              "      <th>Job.ID</th>\n",
              "      <th>Title</th>\n",
              "      <th>Position</th>\n",
              "      <th>Company</th>\n",
              "      <th>City</th>\n",
              "      <th>Empl_type</th>\n",
              "      <th>Job_Description</th>\n",
              "    </tr>\n",
              "  </thead>\n",
              "  <tbody>\n",
              "    <tr>\n",
              "      <th>3440</th>\n",
              "      <td>142061</td>\n",
              "      <td>Area Sales Representative @ CHI Payment Systems</td>\n",
              "      <td>Area Sales Representative</td>\n",
              "      <td>CHI Payment Systems</td>\n",
              "      <td>NaN</td>\n",
              "      <td>Full-Time/Part-Time</td>\n",
              "      <td>If you&amp;rsquo;re energetic, motivated, hardwork...</td>\n",
              "    </tr>\n",
              "  </tbody>\n",
              "</table>\n",
              "</div>"
            ],
            "text/plain": [
              "      Job.ID                                            Title  \\\n",
              "3440  142061  Area Sales Representative @ CHI Payment Systems   \n",
              "\n",
              "                       Position              Company City  \\\n",
              "3440  Area Sales Representative  CHI Payment Systems  NaN   \n",
              "\n",
              "                Empl_type                                    Job_Description  \n",
              "3440  Full-Time/Part-Time  If you&rsquo;re energetic, motivated, hardwork...  "
            ]
          },
          "execution_count": 354,
          "metadata": {},
          "output_type": "execute_result"
        }
      ],
      "source": [
        "\n",
        "df_nan_city = df_jobs[pd.isnull(df_jobs['City'])]\n",
        "print(df_nan_city.shape)\n",
        "df_nan_city.head()"
      ]
    },
    {
      "cell_type": "code",
      "execution_count": 355,
      "metadata": {
        "colab": {
          "base_uri": "https://localhost:8080/"
        },
        "id": "CJMY7ImZi9kF",
        "outputId": "32350e59-8630-4583-940b-37741023cb41",
        "scrolled": false
      },
      "outputs": [
        {
          "data": {
            "text/plain": [
              "Company\n",
              "CHI Payment Systems    0\n",
              "Name: City, dtype: int64"
            ]
          },
          "execution_count": 355,
          "metadata": {},
          "output_type": "execute_result"
        }
      ],
      "source": [
        "df_nan_city.groupby(['Company'])['City'].count()"
      ]
    },
    {
      "cell_type": "markdown",
      "metadata": {
        "id": "6HMyGCU7i9kQ"
      },
      "source": [
        "#### We see that there are only 9 companies cities that are having NaN values so it must be manually adding their head quarters (by simply searching at google)\n"
      ]
    },
    {
      "cell_type": "code",
      "execution_count": 356,
      "metadata": {
        "id": "w8FFdeqMi9kT",
        "scrolled": true
      },
      "outputs": [],
      "source": [
        "#replacing nan with thier headquarters location\n",
        "df_jobs['Company'] = df_jobs['Company'].replace(['Genesis Health Systems'], 'Genesis Health System')\n",
        "df_jobs.loc[df_jobs.Company == 'CHI Payment Systems', 'City'] = 'Illinois'\n",
        "df_jobs.loc[df_jobs.Company == 'Academic Year In America', 'City'] = 'Stamford'\n",
        "df_jobs.loc[df_jobs.Company == 'CBS Healthcare Services and Staffing ', 'City'] = 'Urbandale'\n",
        "df_jobs.loc[df_jobs.Company == 'Driveline Retail', 'City'] = 'Coppell'\n",
        "df_jobs.loc[df_jobs.Company == 'Educational Testing Services', 'City'] = 'New Jersey'\n",
        "df_jobs.loc[df_jobs.Company == 'Genesis Health System', 'City'] = 'Davennport'\n",
        "df_jobs.loc[df_jobs.Company == 'Home Instead Senior Care', 'City'] = 'Nebraska'\n",
        "df_jobs.loc[df_jobs.Company == 'St. Francis Hospital', 'City'] = 'New York'\n",
        "df_jobs.loc[df_jobs.Company == 'Volvo Group', 'City'] = 'Washington'\n",
        "df_jobs.loc[df_jobs.Company == 'CBS Healthcare Services and Staffing', 'City'] = 'Urbandale'"
      ]
    },
    {
      "cell_type": "code",
      "execution_count": 357,
      "metadata": {
        "colab": {
          "base_uri": "https://localhost:8080/"
        },
        "id": "nsqYwI9Ki9ke",
        "outputId": "cc3314d2-0780-43f1-b31c-cf6479e656c0"
      },
      "outputs": [
        {
          "data": {
            "text/plain": [
              "Job.ID              0\n",
              "Title               0\n",
              "Position            0\n",
              "Company            26\n",
              "City                0\n",
              "Empl_type           2\n",
              "Job_Description     0\n",
              "dtype: int64"
            ]
          },
          "execution_count": 357,
          "metadata": {},
          "output_type": "execute_result"
        }
      ],
      "source": [
        "df_jobs.isnull().sum()"
      ]
    },
    {
      "cell_type": "code",
      "execution_count": 358,
      "metadata": {
        "colab": {
          "base_uri": "https://localhost:8080/",
          "height": 206
        },
        "id": "_vHI6jDti9lp",
        "outputId": "2caf8f2c-d905-45b0-aa01-5f6e7009562c",
        "scrolled": false
      },
      "outputs": [
        {
          "data": {
            "text/html": [
              "<div>\n",
              "<style scoped>\n",
              "    .dataframe tbody tr th:only-of-type {\n",
              "        vertical-align: middle;\n",
              "    }\n",
              "\n",
              "    .dataframe tbody tr th {\n",
              "        vertical-align: top;\n",
              "    }\n",
              "\n",
              "    .dataframe thead th {\n",
              "        text-align: right;\n",
              "    }\n",
              "</style>\n",
              "<table border=\"1\" class=\"dataframe\">\n",
              "  <thead>\n",
              "    <tr style=\"text-align: right;\">\n",
              "      <th></th>\n",
              "      <th>Job.ID</th>\n",
              "      <th>Title</th>\n",
              "      <th>Position</th>\n",
              "      <th>Company</th>\n",
              "      <th>City</th>\n",
              "      <th>Empl_type</th>\n",
              "      <th>Job_Description</th>\n",
              "    </tr>\n",
              "  </thead>\n",
              "  <tbody>\n",
              "    <tr>\n",
              "      <th>10771</th>\n",
              "      <td>153200</td>\n",
              "      <td>Driving Partner @ Uber</td>\n",
              "      <td>Driving Partner</td>\n",
              "      <td>Uber</td>\n",
              "      <td>Boston</td>\n",
              "      <td>NaN</td>\n",
              "      <td>Uber is changing the way the world moves. From...</td>\n",
              "    </tr>\n",
              "    <tr>\n",
              "      <th>10769</th>\n",
              "      <td>153198</td>\n",
              "      <td>Driving Partner @ Uber</td>\n",
              "      <td>Driving Partner</td>\n",
              "      <td>Uber</td>\n",
              "      <td>Los Angeles</td>\n",
              "      <td>NaN</td>\n",
              "      <td>Uber is changing the way the world moves. From...</td>\n",
              "    </tr>\n",
              "  </tbody>\n",
              "</table>\n",
              "</div>"
            ],
            "text/plain": [
              "       Job.ID                   Title         Position Company         City  \\\n",
              "10771  153200  Driving Partner @ Uber  Driving Partner    Uber       Boston   \n",
              "10769  153198  Driving Partner @ Uber  Driving Partner    Uber  Los Angeles   \n",
              "\n",
              "      Empl_type                                    Job_Description  \n",
              "10771       NaN  Uber is changing the way the world moves. From...  \n",
              "10769       NaN  Uber is changing the way the world moves. From...  "
            ]
          },
          "execution_count": 358,
          "metadata": {},
          "output_type": "execute_result"
        }
      ],
      "source": [
        "#The employement type NA are from Uber so I assume as part-time and full time\n",
        "df_nan_emp = df_jobs[pd.isnull(df_jobs['Empl_type'])]\n",
        "df_nan_emp.head()\n"
      ]
    },
    {
      "cell_type": "code",
      "execution_count": 359,
      "metadata": {
        "colab": {
          "base_uri": "https://localhost:8080/"
        },
        "id": "4jK1Flt_55HS",
        "outputId": "6ca20773-0df4-4da3-e454-eb10a24b2444"
      },
      "outputs": [
        {
          "data": {
            "text/plain": [
              "array(['Part-Time', 'Seasonal/Temp', 'Full-Time/Part-Time', 'Per Diem',\n",
              "       'Intern', nan], dtype=object)"
            ]
          },
          "execution_count": 359,
          "metadata": {},
          "output_type": "execute_result"
        }
      ],
      "source": [
        "df_jobs['Empl_type'].unique()"
      ]
    },
    {
      "cell_type": "code",
      "execution_count": 360,
      "metadata": {
        "colab": {
          "base_uri": "https://localhost:8080/",
          "height": 206
        },
        "id": "CjRTsXHCi9mA",
        "outputId": "b8883191-42e0-48d0-d5de-c0fc5e2d7c79"
      },
      "outputs": [
        {
          "data": {
            "text/html": [
              "<div>\n",
              "<style scoped>\n",
              "    .dataframe tbody tr th:only-of-type {\n",
              "        vertical-align: middle;\n",
              "    }\n",
              "\n",
              "    .dataframe tbody tr th {\n",
              "        vertical-align: top;\n",
              "    }\n",
              "\n",
              "    .dataframe thead th {\n",
              "        text-align: right;\n",
              "    }\n",
              "</style>\n",
              "<table border=\"1\" class=\"dataframe\">\n",
              "  <thead>\n",
              "    <tr style=\"text-align: right;\">\n",
              "      <th></th>\n",
              "      <th>Job.ID</th>\n",
              "      <th>Title</th>\n",
              "      <th>Position</th>\n",
              "      <th>Company</th>\n",
              "      <th>City</th>\n",
              "      <th>Empl_type</th>\n",
              "      <th>Job_Description</th>\n",
              "    </tr>\n",
              "  </thead>\n",
              "  <tbody>\n",
              "    <tr>\n",
              "      <th>10675</th>\n",
              "      <td>151425</td>\n",
              "      <td>ASSISTANT MANAGER @ Dollar Tree Stores</td>\n",
              "      <td>ASSISTANT MANAGER</td>\n",
              "      <td>Dollar Tree Stores</td>\n",
              "      <td>Bandon</td>\n",
              "      <td>Part-Time</td>\n",
              "      <td>Assistant Store Managers at Dollar Tree are re...</td>\n",
              "    </tr>\n",
              "    <tr>\n",
              "      <th>13409</th>\n",
              "      <td>213825</td>\n",
              "      <td>Delivery Team Couriers (Drivers and Bikers) @ ...</td>\n",
              "      <td>Delivery Team Couriers (Drivers and Bikers)</td>\n",
              "      <td>OrderAhead</td>\n",
              "      <td>Silverlake</td>\n",
              "      <td>Part-Time</td>\n",
              "      <td>Join a team of delivery all stars! We are look...</td>\n",
              "    </tr>\n",
              "    <tr>\n",
              "      <th>23636</th>\n",
              "      <td>253165</td>\n",
              "      <td>General Office Clerk @ OfficeTeam</td>\n",
              "      <td>General Office Clerk</td>\n",
              "      <td>OfficeTeam</td>\n",
              "      <td>Denville</td>\n",
              "      <td>Seasonal/Temp</td>\n",
              "      <td>Ref ID: 02751-001638Classification: General Of...</td>\n",
              "    </tr>\n",
              "    <tr>\n",
              "      <th>77643</th>\n",
              "      <td>311408</td>\n",
              "      <td>Hospice CNA / In Patient Unirt @ St Vincent Ho...</td>\n",
              "      <td>Hospice CNA / In Patient Unirt</td>\n",
              "      <td>St Vincent Hospice</td>\n",
              "      <td>Indianapolis</td>\n",
              "      <td>Full-Time/Part-Time</td>\n",
              "      <td>POSITION SUMMARY\\r\\n&amp;nbsp;\\r\\nUnder the superv...</td>\n",
              "    </tr>\n",
              "    <tr>\n",
              "      <th>81270</th>\n",
              "      <td>316463</td>\n",
              "      <td>Pediatric –  RN / LPN @ BAYADA HOME HEALTH CARE</td>\n",
              "      <td>Pediatric –  RN / LPN</td>\n",
              "      <td>BAYADA HOME HEALTH CARE</td>\n",
              "      <td>Georgetown</td>\n",
              "      <td>Full-Time/Part-Time</td>\n",
              "      <td>Are you a RN / LPN interested in making a diff...</td>\n",
              "    </tr>\n",
              "  </tbody>\n",
              "</table>\n",
              "</div>"
            ],
            "text/plain": [
              "       Job.ID                                              Title  \\\n",
              "10675  151425             ASSISTANT MANAGER @ Dollar Tree Stores   \n",
              "13409  213825  Delivery Team Couriers (Drivers and Bikers) @ ...   \n",
              "23636  253165                  General Office Clerk @ OfficeTeam   \n",
              "77643  311408  Hospice CNA / In Patient Unirt @ St Vincent Ho...   \n",
              "81270  316463    Pediatric –  RN / LPN @ BAYADA HOME HEALTH CARE   \n",
              "\n",
              "                                          Position                  Company  \\\n",
              "10675                            ASSISTANT MANAGER       Dollar Tree Stores   \n",
              "13409  Delivery Team Couriers (Drivers and Bikers)               OrderAhead   \n",
              "23636                         General Office Clerk               OfficeTeam   \n",
              "77643               Hospice CNA / In Patient Unirt       St Vincent Hospice   \n",
              "81270                        Pediatric –  RN / LPN  BAYADA HOME HEALTH CARE   \n",
              "\n",
              "               City            Empl_type  \\\n",
              "10675        Bandon            Part-Time   \n",
              "13409    Silverlake            Part-Time   \n",
              "23636      Denville        Seasonal/Temp   \n",
              "77643  Indianapolis  Full-Time/Part-Time   \n",
              "81270    Georgetown  Full-Time/Part-Time   \n",
              "\n",
              "                                         Job_Description  \n",
              "10675  Assistant Store Managers at Dollar Tree are re...  \n",
              "13409  Join a team of delivery all stars! We are look...  \n",
              "23636  Ref ID: 02751-001638Classification: General Of...  \n",
              "77643  POSITION SUMMARY\\r\\n&nbsp;\\r\\nUnder the superv...  \n",
              "81270  Are you a RN / LPN interested in making a diff...  "
            ]
          },
          "execution_count": 360,
          "metadata": {},
          "output_type": "execute_result"
        }
      ],
      "source": [
        "#replacing na values with part time/full time\n",
        "df_jobs['Empl_type']=df_jobs['Empl_type'].fillna('Full-Time/Part-Time')\n",
        "df_jobs.groupby(['Empl_type'])['Company'].count()\n",
        "df_jobs.head()"
      ]
    },
    {
      "cell_type": "markdown",
      "metadata": {
        "id": "gFAuocahi9mM"
      },
      "source": [
        "##  Creating the jobs corpus"
      ]
    },
    {
      "cell_type": "markdown",
      "metadata": {
        "id": "3t412o3Di9nh"
      },
      "source": [
        "#### combining the columns of position, company, city, emp_type and position"
      ]
    },
    {
      "cell_type": "code",
      "execution_count": 361,
      "metadata": {
        "colab": {
          "base_uri": "https://localhost:8080/",
          "height": 112
        },
        "id": "abeOMB65i9nk",
        "outputId": "198b632b-9332-47a2-d141-c030c2c0526b",
        "scrolled": true
      },
      "outputs": [
        {
          "data": {
            "text/html": [
              "<div>\n",
              "<style scoped>\n",
              "    .dataframe tbody tr th:only-of-type {\n",
              "        vertical-align: middle;\n",
              "    }\n",
              "\n",
              "    .dataframe tbody tr th {\n",
              "        vertical-align: top;\n",
              "    }\n",
              "\n",
              "    .dataframe thead th {\n",
              "        text-align: right;\n",
              "    }\n",
              "</style>\n",
              "<table border=\"1\" class=\"dataframe\">\n",
              "  <thead>\n",
              "    <tr style=\"text-align: right;\">\n",
              "      <th></th>\n",
              "      <th>Job.ID</th>\n",
              "      <th>Title</th>\n",
              "      <th>Position</th>\n",
              "      <th>Company</th>\n",
              "      <th>City</th>\n",
              "      <th>Empl_type</th>\n",
              "      <th>Job_Description</th>\n",
              "      <th>text</th>\n",
              "    </tr>\n",
              "  </thead>\n",
              "  <tbody>\n",
              "    <tr>\n",
              "      <th>10675</th>\n",
              "      <td>151425</td>\n",
              "      <td>ASSISTANT MANAGER @ Dollar Tree Stores</td>\n",
              "      <td>ASSISTANT MANAGER</td>\n",
              "      <td>Dollar Tree Stores</td>\n",
              "      <td>Bandon</td>\n",
              "      <td>Part-Time</td>\n",
              "      <td>Assistant Store Managers at Dollar Tree are re...</td>\n",
              "      <td>ASSISTANT MANAGER Dollar Tree Stores Bandon Pa...</td>\n",
              "    </tr>\n",
              "    <tr>\n",
              "      <th>13409</th>\n",
              "      <td>213825</td>\n",
              "      <td>Delivery Team Couriers (Drivers and Bikers) @ ...</td>\n",
              "      <td>Delivery Team Couriers (Drivers and Bikers)</td>\n",
              "      <td>OrderAhead</td>\n",
              "      <td>Silverlake</td>\n",
              "      <td>Part-Time</td>\n",
              "      <td>Join a team of delivery all stars! We are look...</td>\n",
              "      <td>Delivery Team Couriers (Drivers and Bikers) Or...</td>\n",
              "    </tr>\n",
              "  </tbody>\n",
              "</table>\n",
              "</div>"
            ],
            "text/plain": [
              "       Job.ID                                              Title  \\\n",
              "10675  151425             ASSISTANT MANAGER @ Dollar Tree Stores   \n",
              "13409  213825  Delivery Team Couriers (Drivers and Bikers) @ ...   \n",
              "\n",
              "                                          Position             Company  \\\n",
              "10675                            ASSISTANT MANAGER  Dollar Tree Stores   \n",
              "13409  Delivery Team Couriers (Drivers and Bikers)          OrderAhead   \n",
              "\n",
              "             City  Empl_type  \\\n",
              "10675      Bandon  Part-Time   \n",
              "13409  Silverlake  Part-Time   \n",
              "\n",
              "                                         Job_Description  \\\n",
              "10675  Assistant Store Managers at Dollar Tree are re...   \n",
              "13409  Join a team of delivery all stars! We are look...   \n",
              "\n",
              "                                                    text  \n",
              "10675  ASSISTANT MANAGER Dollar Tree Stores Bandon Pa...  \n",
              "13409  Delivery Team Couriers (Drivers and Bikers) Or...  "
            ]
          },
          "execution_count": 361,
          "metadata": {},
          "output_type": "execute_result"
        }
      ],
      "source": [
        "df_jobs[\"text\"] = df_jobs[\"Position\"].map(str) + \" \" + df_jobs[\"Company\"] +\" \"+ df_jobs[\"City\"]+ \" \"+df_jobs['Empl_type']+\" \"+df_jobs['Job_Description'] +\" \"+df_jobs['Title']\n",
        "df_jobs.head(2)"
      ]
    },
    {
      "cell_type": "code",
      "execution_count": 362,
      "metadata": {
        "colab": {
          "base_uri": "https://localhost:8080/",
          "height": 206
        },
        "id": "h-VeEshqi9pV",
        "outputId": "098d3c19-9551-4fa5-ea64-17e403dd9808"
      },
      "outputs": [
        {
          "data": {
            "text/html": [
              "<div>\n",
              "<style scoped>\n",
              "    .dataframe tbody tr th:only-of-type {\n",
              "        vertical-align: middle;\n",
              "    }\n",
              "\n",
              "    .dataframe tbody tr th {\n",
              "        vertical-align: top;\n",
              "    }\n",
              "\n",
              "    .dataframe thead th {\n",
              "        text-align: right;\n",
              "    }\n",
              "</style>\n",
              "<table border=\"1\" class=\"dataframe\">\n",
              "  <thead>\n",
              "    <tr style=\"text-align: right;\">\n",
              "      <th></th>\n",
              "      <th>Job.ID</th>\n",
              "      <th>text</th>\n",
              "      <th>Title</th>\n",
              "    </tr>\n",
              "  </thead>\n",
              "  <tbody>\n",
              "    <tr>\n",
              "      <th>10675</th>\n",
              "      <td>151425</td>\n",
              "      <td>ASSISTANT MANAGER Dollar Tree Stores Bandon Pa...</td>\n",
              "      <td>ASSISTANT MANAGER @ Dollar Tree Stores</td>\n",
              "    </tr>\n",
              "    <tr>\n",
              "      <th>13409</th>\n",
              "      <td>213825</td>\n",
              "      <td>Delivery Team Couriers (Drivers and Bikers) Or...</td>\n",
              "      <td>Delivery Team Couriers (Drivers and Bikers) @ ...</td>\n",
              "    </tr>\n",
              "    <tr>\n",
              "      <th>23636</th>\n",
              "      <td>253165</td>\n",
              "      <td>General Office Clerk OfficeTeam Denville Seaso...</td>\n",
              "      <td>General Office Clerk @ OfficeTeam</td>\n",
              "    </tr>\n",
              "    <tr>\n",
              "      <th>77643</th>\n",
              "      <td>311408</td>\n",
              "      <td>Hospice CNA / In Patient Unirt St Vincent Hosp...</td>\n",
              "      <td>Hospice CNA / In Patient Unirt @ St Vincent Ho...</td>\n",
              "    </tr>\n",
              "    <tr>\n",
              "      <th>81270</th>\n",
              "      <td>316463</td>\n",
              "      <td>Pediatric –  RN / LPN BAYADA HOME HEALTH CARE ...</td>\n",
              "      <td>Pediatric –  RN / LPN @ BAYADA HOME HEALTH CARE</td>\n",
              "    </tr>\n",
              "  </tbody>\n",
              "</table>\n",
              "</div>"
            ],
            "text/plain": [
              "       Job.ID                                               text  \\\n",
              "10675  151425  ASSISTANT MANAGER Dollar Tree Stores Bandon Pa...   \n",
              "13409  213825  Delivery Team Couriers (Drivers and Bikers) Or...   \n",
              "23636  253165  General Office Clerk OfficeTeam Denville Seaso...   \n",
              "77643  311408  Hospice CNA / In Patient Unirt St Vincent Hosp...   \n",
              "81270  316463  Pediatric –  RN / LPN BAYADA HOME HEALTH CARE ...   \n",
              "\n",
              "                                                   Title  \n",
              "10675             ASSISTANT MANAGER @ Dollar Tree Stores  \n",
              "13409  Delivery Team Couriers (Drivers and Bikers) @ ...  \n",
              "23636                  General Office Clerk @ OfficeTeam  \n",
              "77643  Hospice CNA / In Patient Unirt @ St Vincent Ho...  \n",
              "81270    Pediatric –  RN / LPN @ BAYADA HOME HEALTH CARE  "
            ]
          },
          "execution_count": 362,
          "metadata": {},
          "output_type": "execute_result"
        }
      ],
      "source": [
        "df_all = df_jobs[['Job.ID', 'text', 'Title']]\n",
        "\n",
        "df_all = df_all.fillna(\" \")\n",
        "\n",
        "df_all.head()"
      ]
    },
    {
      "cell_type": "code",
      "execution_count": 363,
      "metadata": {
        "colab": {
          "base_uri": "https://localhost:8080/"
        },
        "id": "mQ_fPJTdi9py",
        "outputId": "01c9276f-5244-4108-d04e-407e76c634fd"
      },
      "outputs": [
        {
          "data": {
            "text/plain": [
              "(1000, 3)"
            ]
          },
          "execution_count": 363,
          "metadata": {},
          "output_type": "execute_result"
        }
      ],
      "source": [
        "df_all.shape"
      ]
    },
    {
      "cell_type": "code",
      "execution_count": 364,
      "metadata": {
        "colab": {
          "base_uri": "https://localhost:8080/"
        },
        "id": "0pySoqx59JtM",
        "outputId": "cff6cf10-4d6c-45d4-8f1e-3df93fc5dde7"
      },
      "outputs": [
        {
          "name": "stderr",
          "output_type": "stream",
          "text": [
            "[nltk_data] Downloading package punkt to\n",
            "[nltk_data]     C:\\Users\\Srushti\\AppData\\Roaming\\nltk_data...\n",
            "[nltk_data]   Package punkt is already up-to-date!\n",
            "[nltk_data] Downloading package stopwords to\n",
            "[nltk_data]     C:\\Users\\Srushti\\AppData\\Roaming\\nltk_data...\n",
            "[nltk_data]   Package stopwords is already up-to-date!\n",
            "[nltk_data] Downloading package wordnet to\n",
            "[nltk_data]     C:\\Users\\Srushti\\AppData\\Roaming\\nltk_data...\n",
            "[nltk_data]   Package wordnet is already up-to-date!\n",
            "[nltk_data] Downloading package averaged_perceptron_tagger to\n",
            "[nltk_data]     C:\\Users\\Srushti\\AppData\\Roaming\\nltk_data...\n",
            "[nltk_data]   Package averaged_perceptron_tagger is already up-to-\n",
            "[nltk_data]       date!\n"
          ]
        },
        {
          "data": {
            "text/plain": [
              "True"
            ]
          },
          "execution_count": 364,
          "metadata": {},
          "output_type": "execute_result"
        }
      ],
      "source": [
        "nltk.download('punkt')\n",
        "nltk.download('stopwords')\n",
        "nltk.download('wordnet')\n",
        "nltk.download('averaged_perceptron_tagger')"
      ]
    },
    {
      "cell_type": "code",
      "execution_count": 365,
      "metadata": {
        "id": "jnf7QKtJi9ri"
      },
      "outputs": [],
      "source": [
        "\n",
        "from nltk.corpus import stopwords\n",
        "import re\n",
        "import string\n",
        "from nltk.stem import WordNetLemmatizer\n",
        "from nltk import word_tokenize\n",
        "from nltk.corpus import stopwords\n",
        "stop = stopwords.words('english')\n",
        "stop_words_ = set(stopwords.words('english'))\n",
        "wn = WordNetLemmatizer()\n",
        "\n",
        "def black_txt(token):\n",
        "    return  token not in stop_words_ and token not in list(string.punctuation)  and len(token)>2\n",
        "\n",
        "def clean_txt(text):\n",
        "  clean_text = []\n",
        "  clean_text2 = []\n",
        "  text = re.sub(\"'\", \"\",text)\n",
        "  text=re.sub(\"(\\\\d|\\\\W)+\",\" \",text)\n",
        "  text = text.replace(\"nbsp\", \"\")\n",
        "  clean_text = [ wn.lemmatize(word, pos=\"v\") for word in word_tokenize(text.lower()) if black_txt(word)]\n",
        "  clean_text2 = [word for word in clean_text if black_txt(word)]\n",
        "  return \" \".join(clean_text2)\n"
      ]
    },
    {
      "cell_type": "markdown",
      "metadata": {
        "id": "M1oyTCSTi9rt"
      },
      "source": [
        "#### Cleaning the jobs corpus"
      ]
    },
    {
      "cell_type": "code",
      "execution_count": 366,
      "metadata": {
        "id": "Jn00UA6qi9rv"
      },
      "outputs": [],
      "source": [
        "df_all['text'] = df_all['text'].apply(clean_txt)"
      ]
    },
    {
      "cell_type": "markdown",
      "metadata": {
        "id": "qGGKhh77jC8E"
      },
      "source": [
        "#### Finally we ended we a clean text for the jobs dataset:"
      ]
    },
    {
      "cell_type": "code",
      "execution_count": 367,
      "metadata": {
        "colab": {
          "base_uri": "https://localhost:8080/",
          "height": 206
        },
        "id": "FqaIg1MBi9xA",
        "outputId": "8790349a-e409-4745-9632-92f00a5ee5be"
      },
      "outputs": [
        {
          "data": {
            "text/html": [
              "<div>\n",
              "<style scoped>\n",
              "    .dataframe tbody tr th:only-of-type {\n",
              "        vertical-align: middle;\n",
              "    }\n",
              "\n",
              "    .dataframe tbody tr th {\n",
              "        vertical-align: top;\n",
              "    }\n",
              "\n",
              "    .dataframe thead th {\n",
              "        text-align: right;\n",
              "    }\n",
              "</style>\n",
              "<table border=\"1\" class=\"dataframe\">\n",
              "  <thead>\n",
              "    <tr style=\"text-align: right;\">\n",
              "      <th></th>\n",
              "      <th>Job.ID</th>\n",
              "      <th>text</th>\n",
              "      <th>Title</th>\n",
              "    </tr>\n",
              "  </thead>\n",
              "  <tbody>\n",
              "    <tr>\n",
              "      <th>10675</th>\n",
              "      <td>151425</td>\n",
              "      <td>assistant manager dollar tree store bandon par...</td>\n",
              "      <td>ASSISTANT MANAGER @ Dollar Tree Stores</td>\n",
              "    </tr>\n",
              "    <tr>\n",
              "      <th>13409</th>\n",
              "      <td>213825</td>\n",
              "      <td>delivery team couriers drivers bikers orderahe...</td>\n",
              "      <td>Delivery Team Couriers (Drivers and Bikers) @ ...</td>\n",
              "    </tr>\n",
              "    <tr>\n",
              "      <th>23636</th>\n",
              "      <td>253165</td>\n",
              "      <td>general office clerk officeteam denville seaso...</td>\n",
              "      <td>General Office Clerk @ OfficeTeam</td>\n",
              "    </tr>\n",
              "    <tr>\n",
              "      <th>77643</th>\n",
              "      <td>311408</td>\n",
              "      <td>hospice cna patient unirt vincent hospice indi...</td>\n",
              "      <td>Hospice CNA / In Patient Unirt @ St Vincent Ho...</td>\n",
              "    </tr>\n",
              "    <tr>\n",
              "      <th>81270</th>\n",
              "      <td>316463</td>\n",
              "      <td>pediatric lpn bayada home health care georgeto...</td>\n",
              "      <td>Pediatric –  RN / LPN @ BAYADA HOME HEALTH CARE</td>\n",
              "    </tr>\n",
              "  </tbody>\n",
              "</table>\n",
              "</div>"
            ],
            "text/plain": [
              "       Job.ID                                               text  \\\n",
              "10675  151425  assistant manager dollar tree store bandon par...   \n",
              "13409  213825  delivery team couriers drivers bikers orderahe...   \n",
              "23636  253165  general office clerk officeteam denville seaso...   \n",
              "77643  311408  hospice cna patient unirt vincent hospice indi...   \n",
              "81270  316463  pediatric lpn bayada home health care georgeto...   \n",
              "\n",
              "                                                   Title  \n",
              "10675             ASSISTANT MANAGER @ Dollar Tree Stores  \n",
              "13409  Delivery Team Couriers (Drivers and Bikers) @ ...  \n",
              "23636                  General Office Clerk @ OfficeTeam  \n",
              "77643  Hospice CNA / In Patient Unirt @ St Vincent Ho...  \n",
              "81270    Pediatric –  RN / LPN @ BAYADA HOME HEALTH CARE  "
            ]
          },
          "execution_count": 367,
          "metadata": {},
          "output_type": "execute_result"
        }
      ],
      "source": [
        "df_all.head()"
      ]
    },
    {
      "cell_type": "markdown",
      "metadata": {
        "id": "RLBeZTFGi9zK"
      },
      "source": [
        "####TF-IDF ( Term Frequency - Inverse Document Frequency )\n"
      ]
    },
    {
      "cell_type": "code",
      "execution_count": 368,
      "metadata": {
        "colab": {
          "base_uri": "https://localhost:8080/"
        },
        "id": "QwziWFUki9zP",
        "outputId": "5f81f2a3-8a9c-415a-96ee-1c57bc188be6"
      },
      "outputs": [
        {
          "data": {
            "text/plain": [
              "<1000x7935 sparse matrix of type '<class 'numpy.float64'>'\n",
              "\twith 102041 stored elements in Compressed Sparse Row format>"
            ]
          },
          "execution_count": 368,
          "metadata": {},
          "output_type": "execute_result"
        }
      ],
      "source": [
        "\n",
        "#initializing tfidf vectorizer\n",
        "from sklearn.feature_extraction.text import TfidfVectorizer\n",
        "tfidf_vectorizer = TfidfVectorizer()\n",
        "\n",
        "tfidf_jobid = tfidf_vectorizer.fit_transform((df_all['text'])) #fitting and transforming the vector\n",
        "tfidf_jobid"
      ]
    },
    {
      "cell_type": "code",
      "execution_count": 369,
      "metadata": {},
      "outputs": [
        {
          "name": "stdout",
          "output_type": "stream",
          "text": [
            "  (0, 2394)\t0.05713082964804583\n",
            "  (0, 4960)\t0.0406909784126469\n",
            "  (0, 2488)\t0.057931954353534085\n",
            "  (0, 2481)\t0.13455731010957528\n",
            "  (0, 7070)\t0.03729849467530739\n",
            "  (0, 2427)\t0.08778680763450283\n",
            "  (0, 7854)\t0.029609494991992665\n",
            "  (0, 6559)\t0.04168348329720849\n",
            "  (0, 7890)\t0.060707053583341594\n",
            "  (0, 3761)\t0.08387809354673463\n",
            "  (0, 1364)\t0.05365973833174559\n",
            "  (0, 5592)\t0.048989081563536076\n",
            "  (0, 2916)\t0.10275744151902473\n",
            "  (0, 10)\t0.10276276809115613\n",
            "  (0, 5605)\t0.0897318229440846\n",
            "  (0, 5388)\t0.13455731010957528\n",
            "  (0, 833)\t0.0926643602122243\n",
            "  (0, 4468)\t0.13455731010957528\n",
            "  (0, 7555)\t0.06488217668606686\n",
            "  (0, 3199)\t0.13455731010957528\n",
            "  (0, 612)\t0.07409134968273834\n",
            "  (0, 2630)\t0.06790711941695914\n",
            "  (0, 4303)\t0.09371080435146434\n",
            "  (0, 6125)\t0.05848467205208429\n",
            "  (0, 5564)\t0.06968239699571681\n",
            "  :\t:\n",
            "  (0, 6421)\t0.13455731010957528\n",
            "  (0, 1735)\t0.04162369998603245\n",
            "  (0, 3063)\t0.061344475612008585\n",
            "  (0, 4105)\t0.05157798635693078\n",
            "  (0, 3281)\t0.10218020119827247\n",
            "  (0, 4286)\t0.04376523527202329\n",
            "  (0, 481)\t0.10558488083048476\n",
            "  (0, 1376)\t0.07576505681033255\n",
            "  (0, 5669)\t0.07744827759031053\n",
            "  (0, 1538)\t0.12086185215781077\n",
            "  (0, 5621)\t0.07977547830251724\n",
            "  (0, 4395)\t0.11076877085101033\n",
            "  (0, 5832)\t0.13455731010957528\n",
            "  (0, 488)\t0.044236496401769576\n",
            "  (0, 2847)\t0.050333707020413995\n",
            "  (0, 6100)\t0.04437323306700262\n",
            "  (0, 4312)\t0.08149468121974462\n",
            "  (0, 7220)\t0.026186666928272064\n",
            "  (0, 5116)\t0.02862691973666388\n",
            "  (0, 636)\t0.14256863944156087\n",
            "  (0, 6834)\t0.345163991814882\n",
            "  (0, 7349)\t0.5154927259591855\n",
            "  (0, 2165)\t0.2942603542524456\n",
            "  (0, 4309)\t0.1181065949217281\n",
            "  (0, 492)\t0.17379586306060224\n",
            "<class 'scipy.sparse._csr.csr_matrix'>\n"
          ]
        }
      ],
      "source": [
        "# for i in range(1):\n",
        "#     print(tfidf_jobid[i])\n",
        "print(tfidf_jobid[0][0])\n",
        "print(type(tfidf_jobid[0]))"
      ]
    },
    {
      "cell_type": "code",
      "execution_count": 370,
      "metadata": {},
      "outputs": [],
      "source": [
        "from sklearn.cluster import KMeans"
      ]
    },
    {
      "cell_type": "code",
      "execution_count": 371,
      "metadata": {},
      "outputs": [],
      "source": [
        "true_k = 3"
      ]
    },
    {
      "cell_type": "code",
      "execution_count": 372,
      "metadata": {},
      "outputs": [
        {
          "name": "stderr",
          "output_type": "stream",
          "text": [
            "c:\\Users\\Srushti\\AppData\\Local\\Programs\\Python\\Python310\\lib\\site-packages\\sklearn\\cluster\\_kmeans.py:1412: FutureWarning: The default value of `n_init` will change from 10 to 'auto' in 1.4. Set the value of `n_init` explicitly to suppress the warning\n",
            "  super()._check_params_vs_input(X, default_n_init=10)\n"
          ]
        },
        {
          "name": "stdout",
          "output_type": "stream",
          "text": [
            "Sum of Squared Errors is: 2.3535547955728925e-05\n"
          ]
        }
      ],
      "source": [
        "km = KMeans(n_clusters=true_k, init='k-means++', max_iter=100)\n",
        "# t0 = time()\n",
        "km.fit(new_tfidf_jobid)\n",
        "print(\"Sum of Squared Errors is:\", km.inertia_)\n"
      ]
    },
    {
      "cell_type": "code",
      "execution_count": 373,
      "metadata": {},
      "outputs": [],
      "source": [
        "# true_k = 6\n",
        "# model = KMeans(n_clusters=true_k, init='k-means++', max_iter=200, n_init=10)\n",
        "# model.fit(tfidf_jobid)\n",
        "# labels=model.labels_\n",
        "# print(labels)\n",
        "# wiki_cl=pd.DataFrame(list(zip(df_all['text'],labels)),columns=['title','cluster'])\n",
        "# print(wiki_cl.sort_values(by=['cluster']))"
      ]
    },
    {
      "cell_type": "code",
      "execution_count": 374,
      "metadata": {},
      "outputs": [
        {
          "name": "stdout",
          "output_type": "stream",
          "text": [
            "Cluster 0: _______________________________________________________________________________\n",
            "Cluster 1: _______________________________________________________________________________\n",
            "Cluster 2: _______________________________________________________________________________\n"
          ]
        }
      ],
      "source": [
        "centroids = km.cluster_centers_.argsort()[:, ::-1] ## Indices of largest centroids' entries in descending order\n",
        "# centroids = km.cluster_centers_\n",
        "terms = tfidf_vectorizer.get_feature_names_out()\n",
        "for i in range(true_k):\n",
        "    print(\"Cluster %d:\" % i, end='')\n",
        "    for ind in centroids[i, :10]:\n",
        "        print(' %s' % terms[ind], end='')\n",
        "    print()"
      ]
    },
    {
      "cell_type": "code",
      "execution_count": 375,
      "metadata": {},
      "outputs": [],
      "source": [
        "# centroids = km.cluster_centers_  # Remove the argsort part\n",
        "# terms = tfidf_vectorizer.get_feature_names_out()\n",
        "\n",
        "# for i in range(true_k):\n",
        "#     print(\"Cluster %d:\" % i, end='')\n",
        "#     for term_weight in centroids[i, :10]:  # Loop directly through centroid values\n",
        "#         term_index = np.where(centroids[i] == term_weight)[0][0]  # Find index of the term\n",
        "#         print(' %s' % terms[term_index], end='')\n",
        "#     print()"
      ]
    },
    {
      "cell_type": "code",
      "execution_count": 376,
      "metadata": {},
      "outputs": [
        {
          "name": "stdout",
          "output_type": "stream",
          "text": [
            "<class 'numpy.ndarray'>\n",
            "3\n",
            "[0]\n",
            "1\n",
            "[0]\n",
            "[0]\n"
          ]
        }
      ],
      "source": [
        "print(type(centroids))\n",
        "print(len(centroids))\n",
        "print(centroids[0])\n",
        "print(len(centroids[1]))\n",
        "print(centroids[1])\n",
        "print(centroids[2])"
      ]
    },
    {
      "cell_type": "code",
      "execution_count": 377,
      "metadata": {},
      "outputs": [
        {
          "name": "stderr",
          "output_type": "stream",
          "text": [
            "c:\\Users\\Srushti\\AppData\\Local\\Programs\\Python\\Python310\\lib\\site-packages\\sklearn\\cluster\\_kmeans.py:1412: FutureWarning: The default value of `n_init` will change from 10 to 'auto' in 1.4. Set the value of `n_init` explicitly to suppress the warning\n",
            "  super()._check_params_vs_input(X, default_n_init=10)\n",
            "c:\\Users\\Srushti\\AppData\\Local\\Programs\\Python\\Python310\\lib\\site-packages\\sklearn\\cluster\\_kmeans.py:1412: FutureWarning: The default value of `n_init` will change from 10 to 'auto' in 1.4. Set the value of `n_init` explicitly to suppress the warning\n",
            "  super()._check_params_vs_input(X, default_n_init=10)\n",
            "c:\\Users\\Srushti\\AppData\\Local\\Programs\\Python\\Python310\\lib\\site-packages\\sklearn\\cluster\\_kmeans.py:1412: FutureWarning: The default value of `n_init` will change from 10 to 'auto' in 1.4. Set the value of `n_init` explicitly to suppress the warning\n",
            "  super()._check_params_vs_input(X, default_n_init=10)\n"
          ]
        },
        {
          "name": "stderr",
          "output_type": "stream",
          "text": [
            "c:\\Users\\Srushti\\AppData\\Local\\Programs\\Python\\Python310\\lib\\site-packages\\sklearn\\cluster\\_kmeans.py:1412: FutureWarning: The default value of `n_init` will change from 10 to 'auto' in 1.4. Set the value of `n_init` explicitly to suppress the warning\n",
            "  super()._check_params_vs_input(X, default_n_init=10)\n",
            "c:\\Users\\Srushti\\AppData\\Local\\Programs\\Python\\Python310\\lib\\site-packages\\sklearn\\cluster\\_kmeans.py:1412: FutureWarning: The default value of `n_init` will change from 10 to 'auto' in 1.4. Set the value of `n_init` explicitly to suppress the warning\n",
            "  super()._check_params_vs_input(X, default_n_init=10)\n",
            "c:\\Users\\Srushti\\AppData\\Local\\Programs\\Python\\Python310\\lib\\site-packages\\sklearn\\cluster\\_kmeans.py:1412: FutureWarning: The default value of `n_init` will change from 10 to 'auto' in 1.4. Set the value of `n_init` explicitly to suppress the warning\n",
            "  super()._check_params_vs_input(X, default_n_init=10)\n",
            "c:\\Users\\Srushti\\AppData\\Local\\Programs\\Python\\Python310\\lib\\site-packages\\sklearn\\cluster\\_kmeans.py:1412: FutureWarning: The default value of `n_init` will change from 10 to 'auto' in 1.4. Set the value of `n_init` explicitly to suppress the warning\n",
            "  super()._check_params_vs_input(X, default_n_init=10)\n",
            "c:\\Users\\Srushti\\AppData\\Local\\Programs\\Python\\Python310\\lib\\site-packages\\sklearn\\cluster\\_kmeans.py:1412: FutureWarning: The default value of `n_init` will change from 10 to 'auto' in 1.4. Set the value of `n_init` explicitly to suppress the warning\n",
            "  super()._check_params_vs_input(X, default_n_init=10)\n",
            "c:\\Users\\Srushti\\AppData\\Local\\Programs\\Python\\Python310\\lib\\site-packages\\sklearn\\cluster\\_kmeans.py:1412: FutureWarning: The default value of `n_init` will change from 10 to 'auto' in 1.4. Set the value of `n_init` explicitly to suppress the warning\n",
            "  super()._check_params_vs_input(X, default_n_init=10)\n",
            "c:\\Users\\Srushti\\AppData\\Local\\Programs\\Python\\Python310\\lib\\site-packages\\sklearn\\cluster\\_kmeans.py:1412: FutureWarning: The default value of `n_init` will change from 10 to 'auto' in 1.4. Set the value of `n_init` explicitly to suppress the warning\n",
            "  super()._check_params_vs_input(X, default_n_init=10)\n",
            "c:\\Users\\Srushti\\AppData\\Local\\Programs\\Python\\Python310\\lib\\site-packages\\sklearn\\cluster\\_kmeans.py:1412: FutureWarning: The default value of `n_init` will change from 10 to 'auto' in 1.4. Set the value of `n_init` explicitly to suppress the warning\n",
            "  super()._check_params_vs_input(X, default_n_init=10)\n",
            "c:\\Users\\Srushti\\AppData\\Local\\Programs\\Python\\Python310\\lib\\site-packages\\sklearn\\cluster\\_kmeans.py:1412: FutureWarning: The default value of `n_init` will change from 10 to 'auto' in 1.4. Set the value of `n_init` explicitly to suppress the warning\n",
            "  super()._check_params_vs_input(X, default_n_init=10)\n",
            "c:\\Users\\Srushti\\AppData\\Local\\Programs\\Python\\Python310\\lib\\site-packages\\sklearn\\cluster\\_kmeans.py:1412: FutureWarning: The default value of `n_init` will change from 10 to 'auto' in 1.4. Set the value of `n_init` explicitly to suppress the warning\n",
            "  super()._check_params_vs_input(X, default_n_init=10)\n",
            "c:\\Users\\Srushti\\AppData\\Local\\Programs\\Python\\Python310\\lib\\site-packages\\sklearn\\cluster\\_kmeans.py:1412: FutureWarning: The default value of `n_init` will change from 10 to 'auto' in 1.4. Set the value of `n_init` explicitly to suppress the warning\n",
            "  super()._check_params_vs_input(X, default_n_init=10)\n",
            "c:\\Users\\Srushti\\AppData\\Local\\Programs\\Python\\Python310\\lib\\site-packages\\sklearn\\cluster\\_kmeans.py:1412: FutureWarning: The default value of `n_init` will change from 10 to 'auto' in 1.4. Set the value of `n_init` explicitly to suppress the warning\n",
            "  super()._check_params_vs_input(X, default_n_init=10)\n",
            "c:\\Users\\Srushti\\AppData\\Local\\Programs\\Python\\Python310\\lib\\site-packages\\sklearn\\cluster\\_kmeans.py:1412: FutureWarning: The default value of `n_init` will change from 10 to 'auto' in 1.4. Set the value of `n_init` explicitly to suppress the warning\n",
            "  super()._check_params_vs_input(X, default_n_init=10)\n",
            "c:\\Users\\Srushti\\AppData\\Local\\Programs\\Python\\Python310\\lib\\site-packages\\sklearn\\cluster\\_kmeans.py:1412: FutureWarning: The default value of `n_init` will change from 10 to 'auto' in 1.4. Set the value of `n_init` explicitly to suppress the warning\n",
            "  super()._check_params_vs_input(X, default_n_init=10)\n",
            "c:\\Users\\Srushti\\AppData\\Local\\Programs\\Python\\Python310\\lib\\site-packages\\sklearn\\cluster\\_kmeans.py:1412: FutureWarning: The default value of `n_init` will change from 10 to 'auto' in 1.4. Set the value of `n_init` explicitly to suppress the warning\n",
            "  super()._check_params_vs_input(X, default_n_init=10)\n",
            "c:\\Users\\Srushti\\AppData\\Local\\Programs\\Python\\Python310\\lib\\site-packages\\sklearn\\cluster\\_kmeans.py:1412: FutureWarning: The default value of `n_init` will change from 10 to 'auto' in 1.4. Set the value of `n_init` explicitly to suppress the warning\n",
            "  super()._check_params_vs_input(X, default_n_init=10)\n"
          ]
        },
        {
          "data": {
            "text/plain": [
              "Text(0, 0.5, 'Sum of Squared Errors')"
            ]
          },
          "execution_count": 377,
          "metadata": {},
          "output_type": "execute_result"
        },
        {
          "data": {
            "image/png": "[encoded data removed]",
            "text/plain": [
              "<Figure size 640x480 with 1 Axes>"
            ]
          },
          "metadata": {},
          "output_type": "display_data"
        }
      ],
      "source": [
        "k = range(1,20)\n",
        "sum_squared_errors = []\n",
        "\n",
        "for i in k:\n",
        "  model = KMeans(n_clusters = i,init='k-means++', max_iter=100 )\n",
        "  model.fit_predict(new_tfidf_jobid)\n",
        "  sum_squared_errors.append(model.inertia_)\n",
        "\n",
        "plt.plot(k,sum_squared_errors)\n",
        "plt.xlabel('K-Value')\n",
        "plt.ylabel('Sum of Squared Errors')"
      ]
    },
    {
      "cell_type": "code",
      "execution_count": 378,
      "metadata": {},
      "outputs": [
        {
          "name": "stdout",
          "output_type": "stream",
          "text": [
            "4.426447001433181e-07\n"
          ]
        }
      ],
      "source": [
        "print(model.inertia_)"
      ]
    },
    {
      "cell_type": "code",
      "execution_count": 379,
      "metadata": {},
      "outputs": [],
      "source": [
        "import numpy\n",
        "import matplotlib.pyplot as plt\n",
        "\n",
        "from matplotlib.style import use\n",
        "from metaheuristics.algorithm.abc import ABC\n",
        "from metaheuristics.optimization.objection_function_ import QuantizationError\n",
        "from metaheuristics.optimization.objection_function_ import SumOfSquaredErrors"
      ]
    },
    {
      "cell_type": "code",
      "execution_count": 380,
      "metadata": {},
      "outputs": [],
      "source": [
        "def decode_centroids(centroids, n_clusters, data):\n",
        "    return centroids.reshape(n_clusters, 1)"
      ]
    },
    {
      "cell_type": "code",
      "execution_count": 381,
      "metadata": {},
      "outputs": [],
      "source": [
        "cents = km.cluster_centers_"
      ]
    },
    {
      "cell_type": "code",
      "execution_count": 382,
      "metadata": {},
      "outputs": [
        {
          "name": "stdout",
          "output_type": "stream",
          "text": [
            "<class 'scipy.sparse._csr.csr_matrix'>\n"
          ]
        }
      ],
      "source": [
        "print(type(tfidf_jobid))"
      ]
    },
    {
      "cell_type": "code",
      "execution_count": null,
      "metadata": {},
      "outputs": [],
      "source": []
    },
    {
      "cell_type": "code",
      "execution_count": 383,
      "metadata": {},
      "outputs": [],
      "source": [
        "new_tfidf_jobid = []\n",
        "for jobdesc in tfidf_jobid:\n",
        "  new_tfidf_jobid.append([jobdesc.mean()])"
      ]
    },
    {
      "cell_type": "code",
      "execution_count": 384,
      "metadata": {},
      "outputs": [],
      "source": [
        "new_tfidf_jobid = numpy.array(new_tfidf_jobid)"
      ]
    },
    {
      "cell_type": "code",
      "execution_count": null,
      "metadata": {},
      "outputs": [],
      "source": []
    },
    {
      "cell_type": "code",
      "execution_count": 385,
      "metadata": {},
      "outputs": [],
      "source": [
        "objective_function = SumOfSquaredErrors(dim=3, n_clusters=3, data=new_tfidf_jobid)"
      ]
    },
    {
      "cell_type": "code",
      "execution_count": 386,
      "metadata": {},
      "outputs": [],
      "source": [
        "optimizer = ABC(obj_function=objective_function, colony_size=30, n_iter=300, max_trials=100)"
      ]
    },
    {
      "cell_type": "code",
      "execution_count": 387,
      "metadata": {},
      "outputs": [
        {
          "name": "stdout",
          "output_type": "stream",
          "text": [
            "x is: [0.48835434 0.62071184 0.47570118]\n",
            "<class 'numpy.ndarray'>\n",
            "x is: [0.59243347 0.54590175 0.50639671]\n",
            "<class 'numpy.ndarray'>\n",
            "x is: [0.556932   0.63130226 0.1503579 ]\n",
            "<class 'numpy.ndarray'>\n",
            "x is: [0.808569   0.21171241 0.01804456]\n",
            "<class 'numpy.ndarray'>\n",
            "x is: [0.2569536  0.1667741  0.18452557]\n",
            "<class 'numpy.ndarray'>\n",
            "x is: [0.24191276 0.10006109 0.49835199]\n",
            "<class 'numpy.ndarray'>\n",
            "x is: [0.04589556 0.29927035 0.63493872]\n",
            "<class 'numpy.ndarray'>\n"
          ]
        },
        {
          "name": "stdout",
          "output_type": "stream",
          "text": [
            "x is: [0.63591459 0.42304348 0.43228466]\n",
            "<class 'numpy.ndarray'>\n",
            "x is: [0.89943133 0.74051797 0.65584856]\n",
            "<class 'numpy.ndarray'>\n",
            "x is: [0.70917311 0.14573604 0.28470548]\n",
            "<class 'numpy.ndarray'>\n",
            "x is: [0.91679106 0.31139118 0.94734031]\n",
            "<class 'numpy.ndarray'>\n",
            "x is: [0.7525773  0.93408213 0.35679811]\n",
            "<class 'numpy.ndarray'>\n",
            "x is: [0.6962667  0.31156029 0.82335779]\n",
            "<class 'numpy.ndarray'>\n",
            "x is: [0.17076251 0.08420607 0.09892209]\n",
            "<class 'numpy.ndarray'>\n",
            "x is: [0.32618988 0.58819104 0.35968522]\n",
            "<class 'numpy.ndarray'>\n",
            "x is: [0.32806987 0.01277914 0.96303284]\n",
            "<class 'numpy.ndarray'>\n",
            "x is: [0.8163485  0.27836837 0.07772363]\n",
            "<class 'numpy.ndarray'>\n",
            "x is: [0.24906202 0.95246164 0.84035475]\n",
            "<class 'numpy.ndarray'>\n",
            "x is: [0.48092778 0.63062012 0.80870011]\n",
            "<class 'numpy.ndarray'>\n",
            "x is: [0.52011896 0.86613182 0.23201616]\n",
            "<class 'numpy.ndarray'>\n",
            "x is: [0.70978463 0.50565891 0.30951291]\n",
            "<class 'numpy.ndarray'>\n",
            "x is: [0.61651518 0.975286   0.53510503]\n",
            "<class 'numpy.ndarray'>\n",
            "x is: [0.792431   0.68278085 0.55246922]\n",
            "<class 'numpy.ndarray'>\n",
            "x is: [0.57908467 0.72931723 0.70346397]\n",
            "<class 'numpy.ndarray'>\n",
            "x is: [0.44868317 0.87674492 0.76958502]\n",
            "<class 'numpy.ndarray'>\n",
            "x is: [0.35834849 0.92475294 0.78435307]\n",
            "<class 'numpy.ndarray'>\n",
            "x is: [0.11053974 0.48797214 0.43900312]\n",
            "<class 'numpy.ndarray'>\n",
            "x is: [0.33017529 0.36090248 0.95874506]\n",
            "<class 'numpy.ndarray'>\n",
            "x is: [0.42606296 0.48081596 0.15839032]\n",
            "<class 'numpy.ndarray'>\n",
            "x is: [0.7214174  0.21012246 0.88192636]\n",
            "<class 'numpy.ndarray'>\n",
            "iter: 0 = cost: 1.407e-01\n",
            "iter: 1 = cost: 1.407e-01\n",
            "iter: 2 = cost: 1.407e-01\n",
            "iter: 3 = cost: 1.407e-01\n",
            "iter: 4 = cost: 1.407e-01\n",
            "iter: 5 = cost: 1.407e-01\n",
            "iter: 6 = cost: 1.407e-01\n",
            "iter: 7 = cost: 1.407e-01\n",
            "iter: 8 = cost: 1.407e-01\n",
            "iter: 9 = cost: 1.407e-01\n",
            "iter: 10 = cost: 1.407e-01\n",
            "iter: 11 = cost: 1.407e-01\n",
            "iter: 12 = cost: 1.407e-01\n",
            "iter: 13 = cost: 1.407e-01\n",
            "iter: 14 = cost: 1.407e-01\n",
            "iter: 15 = cost: 1.407e-01\n",
            "iter: 16 = cost: 1.407e-01\n",
            "iter: 17 = cost: 1.407e-01\n",
            "iter: 18 = cost: 1.407e-01\n",
            "iter: 19 = cost: 1.407e-01\n",
            "iter: 20 = cost: 1.407e-01\n",
            "iter: 21 = cost: 1.407e-01\n",
            "iter: 22 = cost: 1.407e-01\n",
            "iter: 23 = cost: 1.407e-01\n",
            "iter: 24 = cost: 1.407e-01\n",
            "iter: 25 = cost: 1.407e-01\n",
            "iter: 26 = cost: 1.407e-01\n",
            "iter: 27 = cost: 1.407e-01\n",
            "iter: 28 = cost: 1.407e-01\n",
            "iter: 29 = cost: 1.407e-01\n",
            "iter: 30 = cost: 1.407e-01\n",
            "iter: 31 = cost: 1.407e-01\n",
            "iter: 32 = cost: 1.407e-01\n",
            "iter: 33 = cost: 1.407e-01\n",
            "iter: 34 = cost: 1.407e-01\n",
            "iter: 35 = cost: 1.407e-01\n",
            "iter: 36 = cost: 1.407e-01\n",
            "iter: 37 = cost: 1.407e-01\n",
            "iter: 38 = cost: 1.407e-01\n",
            "iter: 39 = cost: 1.407e-01\n",
            "iter: 40 = cost: 1.407e-01\n",
            "iter: 41 = cost: 1.407e-01\n",
            "iter: 42 = cost: 1.407e-01\n",
            "iter: 43 = cost: 1.407e-01\n",
            "iter: 44 = cost: 1.407e-01\n",
            "iter: 45 = cost: 1.407e-01\n",
            "iter: 46 = cost: 1.407e-01\n",
            "iter: 47 = cost: 1.407e-01\n",
            "iter: 48 = cost: 1.407e-01\n",
            "iter: 49 = cost: 1.407e-01\n",
            "iter: 50 = cost: 1.407e-01\n",
            "iter: 51 = cost: 1.407e-01\n",
            "iter: 52 = cost: 1.407e-01\n",
            "iter: 53 = cost: 1.407e-01\n",
            "iter: 54 = cost: 1.407e-01\n",
            "iter: 55 = cost: 1.407e-01\n",
            "iter: 56 = cost: 1.407e-01\n",
            "iter: 57 = cost: 1.407e-01\n",
            "iter: 58 = cost: 1.407e-01\n",
            "iter: 59 = cost: 1.407e-01\n",
            "iter: 60 = cost: 1.407e-01\n",
            "iter: 61 = cost: 1.407e-01\n",
            "iter: 62 = cost: 1.407e-01\n",
            "iter: 63 = cost: 1.407e-01\n",
            "iter: 64 = cost: 1.407e-01\n",
            "iter: 65 = cost: 1.407e-01\n",
            "iter: 66 = cost: 1.407e-01\n",
            "iter: 67 = cost: 1.407e-01\n",
            "iter: 68 = cost: 1.407e-01\n",
            "iter: 69 = cost: 1.407e-01\n",
            "iter: 70 = cost: 1.407e-01\n",
            "iter: 71 = cost: 1.407e-01\n",
            "iter: 72 = cost: 1.407e-01\n",
            "iter: 73 = cost: 1.407e-01\n",
            "iter: 74 = cost: 1.407e-01\n",
            "iter: 75 = cost: 1.407e-01\n",
            "iter: 76 = cost: 1.407e-01\n",
            "iter: 77 = cost: 1.407e-01\n",
            "iter: 78 = cost: 1.407e-01\n",
            "iter: 79 = cost: 1.407e-01\n",
            "iter: 80 = cost: 1.407e-01\n",
            "iter: 81 = cost: 1.407e-01\n",
            "iter: 82 = cost: 1.407e-01\n",
            "iter: 83 = cost: 1.407e-01\n",
            "iter: 84 = cost: 1.407e-01\n",
            "iter: 85 = cost: 1.407e-01\n",
            "iter: 86 = cost: 1.407e-01\n",
            "iter: 87 = cost: 1.407e-01\n",
            "iter: 88 = cost: 1.407e-01\n",
            "iter: 89 = cost: 1.407e-01\n",
            "iter: 90 = cost: 1.407e-01\n",
            "iter: 91 = cost: 1.407e-01\n",
            "iter: 92 = cost: 1.407e-01\n",
            "iter: 93 = cost: 1.407e-01\n",
            "iter: 94 = cost: 1.407e-01\n",
            "iter: 95 = cost: 1.407e-01\n",
            "iter: 96 = cost: 1.407e-01\n",
            "iter: 97 = cost: 1.407e-01\n",
            "iter: 98 = cost: 1.407e-01\n",
            "iter: 99 = cost: 1.407e-01\n",
            "iter: 100 = cost: 1.407e-01\n",
            "iter: 101 = cost: 1.407e-01\n",
            "iter: 102 = cost: 1.407e-01\n",
            "iter: 103 = cost: 1.407e-01\n",
            "iter: 104 = cost: 1.407e-01\n",
            "iter: 105 = cost: 1.407e-01\n",
            "iter: 106 = cost: 1.407e-01\n",
            "iter: 107 = cost: 1.407e-01\n",
            "iter: 108 = cost: 1.407e-01\n",
            "iter: 109 = cost: 1.407e-01\n",
            "iter: 110 = cost: 1.407e-01\n",
            "iter: 111 = cost: 1.407e-01\n",
            "iter: 112 = cost: 1.407e-01\n",
            "iter: 113 = cost: 1.407e-01\n",
            "iter: 114 = cost: 1.407e-01\n",
            "iter: 115 = cost: 1.407e-01\n",
            "iter: 116 = cost: 1.407e-01\n",
            "iter: 117 = cost: 1.407e-01\n",
            "iter: 118 = cost: 1.407e-01\n",
            "iter: 119 = cost: 1.407e-01\n",
            "iter: 120 = cost: 1.407e-01\n",
            "iter: 121 = cost: 1.407e-01\n",
            "iter: 122 = cost: 1.407e-01\n",
            "iter: 123 = cost: 1.407e-01\n",
            "iter: 124 = cost: 1.407e-01\n",
            "iter: 125 = cost: 1.407e-01\n",
            "iter: 126 = cost: 1.407e-01\n",
            "iter: 127 = cost: 1.407e-01\n",
            "iter: 128 = cost: 1.407e-01\n",
            "iter: 129 = cost: 1.407e-01\n",
            "iter: 130 = cost: 1.407e-01\n",
            "iter: 131 = cost: 1.407e-01\n",
            "iter: 132 = cost: 1.407e-01\n",
            "iter: 133 = cost: 1.407e-01\n",
            "iter: 134 = cost: 1.407e-01\n",
            "iter: 135 = cost: 1.407e-01\n",
            "iter: 136 = cost: 1.407e-01\n",
            "iter: 137 = cost: 1.407e-01\n",
            "iter: 138 = cost: 1.407e-01\n",
            "iter: 139 = cost: 1.407e-01\n",
            "iter: 140 = cost: 1.407e-01\n",
            "iter: 141 = cost: 1.407e-01\n",
            "iter: 142 = cost: 1.407e-01\n",
            "iter: 143 = cost: 1.407e-01\n",
            "iter: 144 = cost: 1.407e-01\n",
            "iter: 145 = cost: 1.407e-01\n",
            "iter: 146 = cost: 1.407e-01\n",
            "iter: 147 = cost: 1.407e-01\n",
            "iter: 148 = cost: 1.407e-01\n",
            "iter: 149 = cost: 1.407e-01\n",
            "iter: 150 = cost: 1.407e-01\n",
            "iter: 151 = cost: 1.407e-01\n",
            "iter: 152 = cost: 1.407e-01\n",
            "iter: 153 = cost: 1.407e-01\n",
            "iter: 154 = cost: 1.407e-01\n",
            "iter: 155 = cost: 1.407e-01\n",
            "iter: 156 = cost: 1.407e-01\n",
            "iter: 157 = cost: 1.407e-01\n",
            "iter: 158 = cost: 1.407e-01\n",
            "iter: 159 = cost: 1.407e-01\n",
            "iter: 160 = cost: 1.407e-01\n",
            "iter: 161 = cost: 1.407e-01\n",
            "iter: 162 = cost: 1.407e-01\n",
            "iter: 163 = cost: 1.407e-01\n",
            "iter: 164 = cost: 1.407e-01\n",
            "iter: 165 = cost: 1.407e-01\n",
            "iter: 166 = cost: 1.407e-01\n",
            "iter: 167 = cost: 1.407e-01\n",
            "iter: 168 = cost: 1.407e-01\n",
            "iter: 169 = cost: 1.407e-01\n",
            "iter: 170 = cost: 1.407e-01\n",
            "iter: 171 = cost: 1.407e-01\n",
            "iter: 172 = cost: 1.407e-01\n",
            "iter: 173 = cost: 1.407e-01\n",
            "iter: 174 = cost: 1.407e-01\n",
            "iter: 175 = cost: 1.407e-01\n",
            "iter: 176 = cost: 1.407e-01\n",
            "iter: 177 = cost: 1.407e-01\n",
            "iter: 178 = cost: 1.407e-01\n",
            "iter: 179 = cost: 1.407e-01\n",
            "iter: 180 = cost: 1.407e-01\n",
            "iter: 181 = cost: 1.407e-01\n",
            "iter: 182 = cost: 1.407e-01\n",
            "iter: 183 = cost: 1.407e-01\n",
            "iter: 184 = cost: 1.407e-01\n",
            "iter: 185 = cost: 1.407e-01\n",
            "iter: 186 = cost: 1.407e-01\n",
            "iter: 187 = cost: 1.407e-01\n",
            "iter: 188 = cost: 1.407e-01\n",
            "iter: 189 = cost: 1.407e-01\n",
            "iter: 190 = cost: 1.407e-01\n",
            "iter: 191 = cost: 1.407e-01\n",
            "iter: 192 = cost: 1.407e-01\n",
            "iter: 193 = cost: 1.407e-01\n",
            "iter: 194 = cost: 1.407e-01\n",
            "iter: 195 = cost: 1.407e-01\n",
            "iter: 196 = cost: 1.407e-01\n",
            "iter: 197 = cost: 1.407e-01\n",
            "iter: 198 = cost: 1.407e-01\n",
            "iter: 199 = cost: 1.407e-01\n",
            "iter: 200 = cost: 1.407e-01\n",
            "iter: 201 = cost: 1.407e-01\n",
            "iter: 202 = cost: 1.407e-01\n",
            "iter: 203 = cost: 1.407e-01\n",
            "iter: 204 = cost: 1.407e-01\n",
            "iter: 205 = cost: 1.407e-01\n",
            "iter: 206 = cost: 1.407e-01\n",
            "iter: 207 = cost: 1.407e-01\n",
            "iter: 208 = cost: 1.407e-01\n",
            "iter: 209 = cost: 1.407e-01\n",
            "iter: 210 = cost: 1.407e-01\n",
            "iter: 211 = cost: 1.407e-01\n",
            "iter: 212 = cost: 1.407e-01\n",
            "iter: 213 = cost: 1.407e-01\n",
            "iter: 214 = cost: 1.407e-01\n",
            "iter: 215 = cost: 1.407e-01\n",
            "iter: 216 = cost: 1.407e-01\n",
            "iter: 217 = cost: 1.407e-01\n",
            "iter: 218 = cost: 1.407e-01\n",
            "iter: 219 = cost: 1.407e-01\n",
            "iter: 220 = cost: 1.407e-01\n",
            "iter: 221 = cost: 1.407e-01\n",
            "iter: 222 = cost: 1.407e-01\n",
            "iter: 223 = cost: 1.407e-01\n",
            "iter: 224 = cost: 1.407e-01\n",
            "iter: 225 = cost: 1.407e-01\n",
            "iter: 226 = cost: 1.407e-01\n",
            "iter: 227 = cost: 1.407e-01\n",
            "iter: 228 = cost: 1.407e-01\n",
            "iter: 229 = cost: 1.407e-01\n",
            "iter: 230 = cost: 1.407e-01\n",
            "iter: 231 = cost: 1.407e-01\n",
            "iter: 232 = cost: 1.407e-01\n",
            "iter: 233 = cost: 1.407e-01\n",
            "iter: 234 = cost: 1.407e-01\n",
            "iter: 235 = cost: 1.407e-01\n",
            "iter: 236 = cost: 1.407e-01\n",
            "iter: 237 = cost: 1.407e-01\n",
            "iter: 238 = cost: 1.407e-01\n",
            "iter: 239 = cost: 1.407e-01\n",
            "iter: 240 = cost: 1.407e-01\n",
            "iter: 241 = cost: 1.407e-01\n",
            "iter: 242 = cost: 1.407e-01\n",
            "iter: 243 = cost: 1.407e-01\n",
            "iter: 244 = cost: 1.407e-01\n",
            "iter: 245 = cost: 1.407e-01\n",
            "iter: 246 = cost: 1.407e-01\n",
            "iter: 247 = cost: 1.407e-01\n",
            "iter: 248 = cost: 1.407e-01\n",
            "iter: 249 = cost: 1.407e-01\n",
            "iter: 250 = cost: 1.407e-01\n",
            "iter: 251 = cost: 1.407e-01\n",
            "iter: 252 = cost: 1.407e-01\n",
            "iter: 253 = cost: 1.407e-01\n",
            "iter: 254 = cost: 1.407e-01\n",
            "iter: 255 = cost: 1.407e-01\n",
            "iter: 256 = cost: 1.407e-01\n",
            "iter: 257 = cost: 1.407e-01\n",
            "iter: 258 = cost: 1.407e-01\n",
            "iter: 259 = cost: 1.407e-01\n",
            "iter: 260 = cost: 1.407e-01\n",
            "iter: 261 = cost: 1.407e-01\n",
            "iter: 262 = cost: 1.407e-01\n",
            "iter: 263 = cost: 1.407e-01\n",
            "iter: 264 = cost: 1.407e-01\n",
            "iter: 265 = cost: 1.407e-01\n",
            "iter: 266 = cost: 1.407e-01\n",
            "iter: 267 = cost: 1.407e-01\n",
            "iter: 268 = cost: 1.407e-01\n",
            "iter: 269 = cost: 1.407e-01\n",
            "iter: 270 = cost: 1.407e-01\n",
            "iter: 271 = cost: 1.407e-01\n",
            "iter: 272 = cost: 1.407e-01\n",
            "iter: 273 = cost: 1.407e-01\n",
            "iter: 274 = cost: 1.407e-01\n",
            "iter: 275 = cost: 1.407e-01\n",
            "iter: 276 = cost: 1.407e-01\n",
            "iter: 277 = cost: 1.407e-01\n",
            "iter: 278 = cost: 1.407e-01\n",
            "iter: 279 = cost: 1.407e-01\n",
            "iter: 280 = cost: 1.407e-01\n",
            "iter: 281 = cost: 1.407e-01\n",
            "iter: 282 = cost: 1.407e-01\n",
            "iter: 283 = cost: 1.407e-01\n",
            "iter: 284 = cost: 1.407e-01\n",
            "iter: 285 = cost: 1.407e-01\n",
            "iter: 286 = cost: 1.407e-01\n",
            "iter: 287 = cost: 1.407e-01\n",
            "iter: 288 = cost: 1.407e-01\n",
            "iter: 289 = cost: 1.407e-01\n",
            "iter: 290 = cost: 1.407e-01\n",
            "iter: 291 = cost: 1.407e-01\n",
            "iter: 292 = cost: 1.407e-01\n",
            "iter: 293 = cost: 1.407e-01\n",
            "iter: 294 = cost: 1.407e-01\n",
            "iter: 295 = cost: 1.407e-01\n",
            "iter: 296 = cost: 1.407e-01\n",
            "iter: 297 = cost: 1.407e-01\n",
            "iter: 298 = cost: 1.407e-01\n",
            "iter: 299 = cost: 1.407e-01\n"
          ]
        }
      ],
      "source": [
        "optimizer.optimize()"
      ]
    },
    {
      "cell_type": "code",
      "execution_count": 388,
      "metadata": {},
      "outputs": [
        {
          "name": "stdout",
          "output_type": "stream",
          "text": [
            "{0: array([0.32806987]), 1: array([0.01277914]), 2: array([0.96303284])}\n"
          ]
        }
      ],
      "source": [
        "centroids = dict(enumerate(decode_centroids(optimizer.optimal_solution.pos, n_clusters=3, data=new_tfidf_jobid)))\n",
        "print(centroids)"
      ]
    },
    {
      "cell_type": "code",
      "execution_count": 389,
      "metadata": {},
      "outputs": [],
      "source": [
        "def assign_centroid(centroids, point):\n",
        "    distances = [np.linalg.norm(point - centroids[idx]) for idx in centroids]\n",
        "    return np.argmin(distances)"
      ]
    },
    {
      "cell_type": "code",
      "execution_count": 390,
      "metadata": {},
      "outputs": [],
      "source": [
        "custom_tgt = []\n",
        "for instance in new_tfidf_jobid:\n",
        "    # print(instance)\n",
        "    custom_tgt.append(assign_centroid(centroids, instance[0]))"
      ]
    },
    {
      "cell_type": "code",
      "execution_count": null,
      "metadata": {},
      "outputs": [],
      "source": []
    },
    {
      "cell_type": "code",
      "execution_count": 391,
      "metadata": {},
      "outputs": [
        {
          "name": "stdout",
          "output_type": "stream",
          "text": [
            "{1}\n"
          ]
        }
      ],
      "source": [
        "print(set(custom_tgt))"
      ]
    },
    {
      "cell_type": "code",
      "execution_count": 392,
      "metadata": {},
      "outputs": [],
      "source": [
        "# colors = ['r', 'g', 'y']\n",
        "# plt.figure(figsize=(9,8))\n",
        "# for instance, tgt in zip(tfidf_jobid, custom_tgt):\n",
        "#     plt.scatter(instance[0], instance[1], s=50, edgecolor='w', alpha=0.5)\n",
        "# for centroid in centroids:\n",
        "#     plt.scatter(centroids[centroid][0], centroids[centroid][1],\n",
        "#                 color='k', marker='x', lw=5, s=500)\n",
        "# plt.title('Partitioned Data found by ABC')"
      ]
    },
    {
      "cell_type": "code",
      "execution_count": 393,
      "metadata": {},
      "outputs": [
        {
          "data": {
            "text/plain": [
              "Text(0.5, 0, 'Iteration')"
            ]
          },
          "execution_count": 393,
          "metadata": {},
          "output_type": "execute_result"
        },
        {
          "data": {
            "image/png": "[encoded data removed]",
            "text/plain": [
              "<Figure size 1000x900 with 1 Axes>"
            ]
          },
          "metadata": {},
          "output_type": "display_data"
        }
      ],
      "source": [
        "itr = range(len(optimizer.optimality_tracking))\n",
        "val = optimizer.optimality_tracking\n",
        "plt.figure(figsize=(10, 9))\n",
        "plt.plot(itr, val)\n",
        "plt.title('Sum of Squared Errors')\n",
        "plt.ylabel('Fitness')\n",
        "plt.xlabel('Iteration')"
      ]
    },
    {
      "cell_type": "code",
      "execution_count": null,
      "metadata": {},
      "outputs": [],
      "source": []
    },
    {
      "cell_type": "code",
      "execution_count": 394,
      "metadata": {},
      "outputs": [],
      "source": [
        "from wordcloud import WordCloud\n",
        "import matplotlib.pyplot as plt"
      ]
    },
    {
      "cell_type": "code",
      "execution_count": 395,
      "metadata": {},
      "outputs": [],
      "source": [
        "def frequencies_dict(cluster_index):\n",
        "    if cluster_index > true_k - 1:\n",
        "        return\n",
        "    term_frequencies = km.cluster_centers_[cluster_index]\n",
        "    sorted_terms = centroids[cluster_index]\n",
        "    frequencies = {terms[i]: term_frequencies[i] for i in sorted_terms}\n",
        "    return frequencies"
      ]
    },
    {
      "cell_type": "code",
      "execution_count": 396,
      "metadata": {},
      "outputs": [],
      "source": [
        "def makeImage(frequencies):\n",
        "\n",
        "    wc = WordCloud(background_color=\"white\", max_words=50)\n",
        "    # generate word cloud\n",
        "    wc.generate_from_frequencies(frequencies)\n",
        "\n",
        "    # show\n",
        "    plt.imshow(wc, interpolation=\"bilinear\")\n",
        "    plt.axis(\"off\")\n",
        "    plt.show()"
      ]
    },
    {
      "cell_type": "code",
      "execution_count": 397,
      "metadata": {},
      "outputs": [
        {
          "ename": "IndexError",
          "evalue": "only integers, slices (`:`), ellipsis (`...`), numpy.newaxis (`None`) and integer or boolean arrays are valid indices",
          "output_type": "error",
          "traceback": [
            "\u001b[1;31m---------------------------------------------------------------------------\u001b[0m",
            "\u001b[1;31mIndexError\u001b[0m                                Traceback (most recent call last)",
            "\u001b[1;32mc:\\Users\\Srushti\\Documents\\Apidae\\kabc-medium\\Content-based.ipynb Cell 71\u001b[0m in \u001b[0;36m2\n\u001b[0;32m      <a href='vscode-notebook-cell:/c%3A/Users/Srushti/Documents/Apidae/kabc-medium/Content-based.ipynb#Y354sZmlsZQ%3D%3D?line=0'>1</a>\u001b[0m \u001b[39mfor\u001b[39;00m i \u001b[39min\u001b[39;00m \u001b[39mrange\u001b[39m(true_k):\n\u001b[1;32m----> <a href='vscode-notebook-cell:/c%3A/Users/Srushti/Documents/Apidae/kabc-medium/Content-based.ipynb#Y354sZmlsZQ%3D%3D?line=1'>2</a>\u001b[0m     freq \u001b[39m=\u001b[39m frequencies_dict(i)\n\u001b[0;32m      <a href='vscode-notebook-cell:/c%3A/Users/Srushti/Documents/Apidae/kabc-medium/Content-based.ipynb#Y354sZmlsZQ%3D%3D?line=2'>3</a>\u001b[0m     makeImage(freq)\n\u001b[0;32m      <a href='vscode-notebook-cell:/c%3A/Users/Srushti/Documents/Apidae/kabc-medium/Content-based.ipynb#Y354sZmlsZQ%3D%3D?line=3'>4</a>\u001b[0m     \u001b[39mprint\u001b[39m()\n",
            "\u001b[1;32mc:\\Users\\Srushti\\Documents\\Apidae\\kabc-medium\\Content-based.ipynb Cell 71\u001b[0m in \u001b[0;36m6\n\u001b[0;32m      <a href='vscode-notebook-cell:/c%3A/Users/Srushti/Documents/Apidae/kabc-medium/Content-based.ipynb#Y354sZmlsZQ%3D%3D?line=3'>4</a>\u001b[0m term_frequencies \u001b[39m=\u001b[39m km\u001b[39m.\u001b[39mcluster_centers_[cluster_index]\n\u001b[0;32m      <a href='vscode-notebook-cell:/c%3A/Users/Srushti/Documents/Apidae/kabc-medium/Content-based.ipynb#Y354sZmlsZQ%3D%3D?line=4'>5</a>\u001b[0m sorted_terms \u001b[39m=\u001b[39m centroids[cluster_index]\n\u001b[1;32m----> <a href='vscode-notebook-cell:/c%3A/Users/Srushti/Documents/Apidae/kabc-medium/Content-based.ipynb#Y354sZmlsZQ%3D%3D?line=5'>6</a>\u001b[0m frequencies \u001b[39m=\u001b[39m {terms[i]: term_frequencies[i] \u001b[39mfor\u001b[39;00m i \u001b[39min\u001b[39;00m sorted_terms}\n\u001b[0;32m      <a href='vscode-notebook-cell:/c%3A/Users/Srushti/Documents/Apidae/kabc-medium/Content-based.ipynb#Y354sZmlsZQ%3D%3D?line=6'>7</a>\u001b[0m \u001b[39mreturn\u001b[39;00m frequencies\n",
            "\u001b[1;32mc:\\Users\\Srushti\\Documents\\Apidae\\kabc-medium\\Content-based.ipynb Cell 71\u001b[0m in \u001b[0;36m6\n\u001b[0;32m      <a href='vscode-notebook-cell:/c%3A/Users/Srushti/Documents/Apidae/kabc-medium/Content-based.ipynb#Y354sZmlsZQ%3D%3D?line=3'>4</a>\u001b[0m term_frequencies \u001b[39m=\u001b[39m km\u001b[39m.\u001b[39mcluster_centers_[cluster_index]\n\u001b[0;32m      <a href='vscode-notebook-cell:/c%3A/Users/Srushti/Documents/Apidae/kabc-medium/Content-based.ipynb#Y354sZmlsZQ%3D%3D?line=4'>5</a>\u001b[0m sorted_terms \u001b[39m=\u001b[39m centroids[cluster_index]\n\u001b[1;32m----> <a href='vscode-notebook-cell:/c%3A/Users/Srushti/Documents/Apidae/kabc-medium/Content-based.ipynb#Y354sZmlsZQ%3D%3D?line=5'>6</a>\u001b[0m frequencies \u001b[39m=\u001b[39m {terms[i]: term_frequencies[i] \u001b[39mfor\u001b[39;00m i \u001b[39min\u001b[39;00m sorted_terms}\n\u001b[0;32m      <a href='vscode-notebook-cell:/c%3A/Users/Srushti/Documents/Apidae/kabc-medium/Content-based.ipynb#Y354sZmlsZQ%3D%3D?line=6'>7</a>\u001b[0m \u001b[39mreturn\u001b[39;00m frequencies\n",
            "\u001b[1;31mIndexError\u001b[0m: only integers, slices (`:`), ellipsis (`...`), numpy.newaxis (`None`) and integer or boolean arrays are valid indices"
          ]
        }
      ],
      "source": [
        "for i in range(true_k):\n",
        "    freq = frequencies_dict(i)\n",
        "    makeImage(freq)\n",
        "    print()"
      ]
    },
    {
      "cell_type": "code",
      "execution_count": null,
      "metadata": {},
      "outputs": [],
      "source": []
    },
    {
      "cell_type": "code",
      "execution_count": null,
      "metadata": {
        "id": "VCzjKO_XoUsl"
      },
      "outputs": [],
      "source": [
        "import scipy"
      ]
    },
    {
      "cell_type": "code",
      "execution_count": null,
      "metadata": {
        "id": "PqnLVlHFoOrr"
      },
      "outputs": [],
      "source": [
        "arrays_of_list = tfidf_jobid.tolil().data\n",
        "list_of_list = arrays_of_list.tolist()"
      ]
    },
    {
      "cell_type": "code",
      "execution_count": null,
      "metadata": {
        "colab": {
          "base_uri": "https://localhost:8080/"
        },
        "id": "GBsTnsRrolQ0",
        "outputId": "91e442bd-b42a-4565-c546-3b2cf830db09"
      },
      "outputs": [
        {
          "name": "stdout",
          "output_type": "stream",
          "text": [
            "[0.0830255831423132, 0.325325878549801, 0.10393778458475239, 0.06875841968245375, 0.05186689662716612, 0.10348202878666624, 0.13975459348701652, 0.07383646394440437, 0.08091323229027064, 0.0640663640330642, 0.17176245692528402, 0.07017312947757998, 0.03801211258714634, 0.051586316143992055, 0.06483098661281701, 0.325325878549801, 0.030689530104398247, 0.05565801153734859, 0.116133912727225, 0.10028648788924516, 0.06259738302859202, 0.223181432288947, 0.11274676277775546, 0.05534564428166872, 0.06140894348735485, 0.7154855301584309, 0.23849517671947698, 0.0287254275016071, 0.05084657228919795, 0.03262659681144902]\n"
          ]
        }
      ],
      "source": [
        "print(list_of_list[0])"
      ]
    },
    {
      "cell_type": "markdown",
      "metadata": {
        "id": "d075kZ21i9zp"
      },
      "source": [
        "# Cretating the User Corpus\n",
        "Let's Take the dataset called job views."
      ]
    },
    {
      "cell_type": "code",
      "execution_count": null,
      "metadata": {
        "colab": {
          "base_uri": "https://localhost:8080/",
          "height": 181
        },
        "id": "7aM6HwbGi9zr",
        "outputId": "ca2169cc-b31c-423b-86a5-8ff69368c8a8"
      },
      "outputs": [
        {
          "data": {
            "text/html": [
              "<div>\n",
              "<style scoped>\n",
              "    .dataframe tbody tr th:only-of-type {\n",
              "        vertical-align: middle;\n",
              "    }\n",
              "\n",
              "    .dataframe tbody tr th {\n",
              "        vertical-align: top;\n",
              "    }\n",
              "\n",
              "    .dataframe thead th {\n",
              "        text-align: right;\n",
              "    }\n",
              "</style>\n",
              "<table border=\"1\" class=\"dataframe\">\n",
              "  <thead>\n",
              "    <tr style=\"text-align: right;\">\n",
              "      <th></th>\n",
              "      <th>Applicant.ID</th>\n",
              "      <th>Job.ID</th>\n",
              "      <th>Title</th>\n",
              "      <th>Position</th>\n",
              "      <th>Company</th>\n",
              "      <th>City</th>\n",
              "      <th>State.Name</th>\n",
              "      <th>State.Code</th>\n",
              "      <th>Industry</th>\n",
              "      <th>View.Start</th>\n",
              "      <th>View.End</th>\n",
              "      <th>View.Duration</th>\n",
              "      <th>Created.At</th>\n",
              "      <th>Updated.At</th>\n",
              "    </tr>\n",
              "  </thead>\n",
              "  <tbody>\n",
              "    <tr>\n",
              "      <th>0</th>\n",
              "      <td>10000</td>\n",
              "      <td>73666</td>\n",
              "      <td>Cashiers &amp; Valets Needed! @ WallyPark</td>\n",
              "      <td>Cashiers &amp; Valets Needed!</td>\n",
              "      <td>WallyPark</td>\n",
              "      <td>Newark</td>\n",
              "      <td>New Jersey</td>\n",
              "      <td>NJ</td>\n",
              "      <td>NaN</td>\n",
              "      <td>2014-12-12 20:12:35 UTC</td>\n",
              "      <td>2014-12-12 20:31:24 UTC</td>\n",
              "      <td>1129.0</td>\n",
              "      <td>2014-12-12 20:12:35 UTC</td>\n",
              "      <td>2014-12-12 20:12:35 UTC</td>\n",
              "    </tr>\n",
              "    <tr>\n",
              "      <th>1</th>\n",
              "      <td>10000</td>\n",
              "      <td>96655</td>\n",
              "      <td>Macy's Seasonal Retail Fragrance Cashier  - Ga...</td>\n",
              "      <td>Macy's Seasonal Retail Fragrance Cashier  - Ga...</td>\n",
              "      <td>Macy's</td>\n",
              "      <td>Garden City</td>\n",
              "      <td>New York</td>\n",
              "      <td>NY</td>\n",
              "      <td>NaN</td>\n",
              "      <td>2014-12-12 20:08:50 UTC</td>\n",
              "      <td>2014-12-12 20:10:15 UTC</td>\n",
              "      <td>84.0</td>\n",
              "      <td>2014-12-12 20:08:50 UTC</td>\n",
              "      <td>2014-12-12 20:08:50 UTC</td>\n",
              "    </tr>\n",
              "  </tbody>\n",
              "</table>\n",
              "</div>"
            ],
            "text/plain": [
              "   Applicant.ID  Job.ID                                              Title  \\\n",
              "0         10000   73666              Cashiers & Valets Needed! @ WallyPark   \n",
              "1         10000   96655  Macy's Seasonal Retail Fragrance Cashier  - Ga...   \n",
              "\n",
              "                                            Position    Company         City  \\\n",
              "0                          Cashiers & Valets Needed!  WallyPark       Newark   \n",
              "1  Macy's Seasonal Retail Fragrance Cashier  - Ga...     Macy's  Garden City   \n",
              "\n",
              "   State.Name State.Code Industry               View.Start  \\\n",
              "0  New Jersey         NJ      NaN  2014-12-12 20:12:35 UTC   \n",
              "1    New York         NY      NaN  2014-12-12 20:08:50 UTC   \n",
              "\n",
              "                  View.End  View.Duration               Created.At  \\\n",
              "0  2014-12-12 20:31:24 UTC         1129.0  2014-12-12 20:12:35 UTC   \n",
              "1  2014-12-12 20:10:15 UTC           84.0  2014-12-12 20:08:50 UTC   \n",
              "\n",
              "                Updated.At  \n",
              "0  2014-12-12 20:12:35 UTC  \n",
              "1  2014-12-12 20:08:50 UTC  "
            ]
          },
          "execution_count": 28,
          "metadata": {},
          "output_type": "execute_result"
        }
      ],
      "source": [
        "df_job_view = pd.read_csv(\"C:/Users/Srushti/Desktop/capstone/Job_Views.csv\")\n",
        "df_job_view.head(2)\n"
      ]
    },
    {
      "cell_type": "markdown",
      "metadata": {
        "id": "TWUdaB7sObzw"
      },
      "source": [
        "In this case we will use only the columns 'Applicant.ID', 'Job.ID', 'Position', 'Company','City'"
      ]
    },
    {
      "cell_type": "code",
      "execution_count": null,
      "metadata": {
        "colab": {
          "base_uri": "https://localhost:8080/",
          "height": 206
        },
        "id": "fevCOG49i909",
        "outputId": "c3390b6a-b447-4df8-a905-2b596c6d8c10",
        "scrolled": true
      },
      "outputs": [
        {
          "data": {
            "text/html": [
              "<div>\n",
              "<style scoped>\n",
              "    .dataframe tbody tr th:only-of-type {\n",
              "        vertical-align: middle;\n",
              "    }\n",
              "\n",
              "    .dataframe tbody tr th {\n",
              "        vertical-align: top;\n",
              "    }\n",
              "\n",
              "    .dataframe thead th {\n",
              "        text-align: right;\n",
              "    }\n",
              "</style>\n",
              "<table border=\"1\" class=\"dataframe\">\n",
              "  <thead>\n",
              "    <tr style=\"text-align: right;\">\n",
              "      <th></th>\n",
              "      <th>Applicant.ID</th>\n",
              "      <th>select_pos_com_city</th>\n",
              "    </tr>\n",
              "  </thead>\n",
              "  <tbody>\n",
              "    <tr>\n",
              "      <th>0</th>\n",
              "      <td>10000</td>\n",
              "      <td>cashier valet need wallypark newark</td>\n",
              "    </tr>\n",
              "    <tr>\n",
              "      <th>1</th>\n",
              "      <td>10000</td>\n",
              "      <td>macys seasonal retail fragrance cashier garden...</td>\n",
              "    </tr>\n",
              "    <tr>\n",
              "      <th>2</th>\n",
              "      <td>10001</td>\n",
              "      <td>part time showroom sales cashier grizzly indus...</td>\n",
              "    </tr>\n",
              "    <tr>\n",
              "      <th>3</th>\n",
              "      <td>10002</td>\n",
              "      <td>event specialist part time advantage sales mar...</td>\n",
              "    </tr>\n",
              "    <tr>\n",
              "      <th>4</th>\n",
              "      <td>10002</td>\n",
              "      <td>bonefish kitchen staff bonefish grill greenville</td>\n",
              "    </tr>\n",
              "  </tbody>\n",
              "</table>\n",
              "</div>"
            ],
            "text/plain": [
              "   Applicant.ID                                select_pos_com_city\n",
              "0         10000                cashier valet need wallypark newark\n",
              "1         10000  macys seasonal retail fragrance cashier garden...\n",
              "2         10001  part time showroom sales cashier grizzly indus...\n",
              "3         10002  event specialist part time advantage sales mar...\n",
              "4         10002   bonefish kitchen staff bonefish grill greenville"
            ]
          },
          "execution_count": 29,
          "metadata": {},
          "output_type": "execute_result"
        }
      ],
      "source": [
        "\n",
        "df_job_view = df_job_view[['Applicant.ID', 'Job.ID', 'Position', 'Company','City']]\n",
        "df_job_view[\"select_pos_com_city\"] = df_job_view[\"Position\"].map(str) + \"  \" + df_job_view[\"Company\"] +\"  \"+ df_job_view[\"City\"]\n",
        "df_job_view['select_pos_com_city'] = df_job_view['select_pos_com_city'].map(str).apply(clean_txt)\n",
        "df_job_view['select_pos_com_city'] = df_job_view['select_pos_com_city'].str.lower()\n",
        "df_job_view = df_job_view[['Applicant.ID','select_pos_com_city']]\n",
        "df_job_view.head()\n"
      ]
    },
    {
      "cell_type": "markdown",
      "metadata": {
        "id": "HynRzepZi91I"
      },
      "source": [
        "### Experience Dataset\n"
      ]
    },
    {
      "cell_type": "code",
      "execution_count": null,
      "metadata": {
        "colab": {
          "base_uri": "https://localhost:8080/",
          "height": 199
        },
        "id": "oQU2bCSyi91K",
        "outputId": "5a733fdc-03fb-418d-8b6e-7d14a5aa3fb9"
      },
      "outputs": [
        {
          "data": {
            "text/html": [
              "<div>\n",
              "<style scoped>\n",
              "    .dataframe tbody tr th:only-of-type {\n",
              "        vertical-align: middle;\n",
              "    }\n",
              "\n",
              "    .dataframe tbody tr th {\n",
              "        vertical-align: top;\n",
              "    }\n",
              "\n",
              "    .dataframe thead th {\n",
              "        text-align: right;\n",
              "    }\n",
              "</style>\n",
              "<table border=\"1\" class=\"dataframe\">\n",
              "  <thead>\n",
              "    <tr style=\"text-align: right;\">\n",
              "      <th></th>\n",
              "      <th>Applicant.ID</th>\n",
              "      <th>Position.Name</th>\n",
              "      <th>Employer.Name</th>\n",
              "      <th>City</th>\n",
              "      <th>State.Name</th>\n",
              "      <th>State.Code</th>\n",
              "      <th>Start.Date</th>\n",
              "      <th>End.Date</th>\n",
              "      <th>Job.Description</th>\n",
              "      <th>Salary</th>\n",
              "      <th>Can.Contact.Employer</th>\n",
              "      <th>Created.At</th>\n",
              "      <th>Updated.At</th>\n",
              "    </tr>\n",
              "  </thead>\n",
              "  <tbody>\n",
              "    <tr>\n",
              "      <th>0</th>\n",
              "      <td>10001</td>\n",
              "      <td>Account Manager / Sales Administration / Quali...</td>\n",
              "      <td>Barcode Resourcing</td>\n",
              "      <td>Bellingham</td>\n",
              "      <td>Washington</td>\n",
              "      <td>WA</td>\n",
              "      <td>2012-10-15</td>\n",
              "      <td>NaN</td>\n",
              "      <td>NaN</td>\n",
              "      <td>NaN</td>\n",
              "      <td>NaN</td>\n",
              "      <td>2014-12-12 20:10:02 UTC</td>\n",
              "      <td>2014-12-12 20:10:02 UTC</td>\n",
              "    </tr>\n",
              "    <tr>\n",
              "      <th>1</th>\n",
              "      <td>10001</td>\n",
              "      <td>Electronics Technician / Item Master Controller</td>\n",
              "      <td>Ryzex Group</td>\n",
              "      <td>Bellingham</td>\n",
              "      <td>Washington</td>\n",
              "      <td>WA</td>\n",
              "      <td>2001-12-01</td>\n",
              "      <td>2012-04-01</td>\n",
              "      <td>NaN</td>\n",
              "      <td>NaN</td>\n",
              "      <td>NaN</td>\n",
              "      <td>2014-12-12 20:10:02 UTC</td>\n",
              "      <td>2014-12-12 20:10:02 UTC</td>\n",
              "    </tr>\n",
              "  </tbody>\n",
              "</table>\n",
              "</div>"
            ],
            "text/plain": [
              "   Applicant.ID                                      Position.Name  \\\n",
              "0         10001  Account Manager / Sales Administration / Quali...   \n",
              "1         10001    Electronics Technician / Item Master Controller   \n",
              "\n",
              "        Employer.Name        City  State.Name State.Code  Start.Date  \\\n",
              "0  Barcode Resourcing  Bellingham  Washington         WA  2012-10-15   \n",
              "1         Ryzex Group  Bellingham  Washington         WA  2001-12-01   \n",
              "\n",
              "     End.Date Job.Description  Salary Can.Contact.Employer  \\\n",
              "0         NaN             NaN     NaN                  NaN   \n",
              "1  2012-04-01             NaN     NaN                  NaN   \n",
              "\n",
              "                Created.At               Updated.At  \n",
              "0  2014-12-12 20:10:02 UTC  2014-12-12 20:10:02 UTC  \n",
              "1  2014-12-12 20:10:02 UTC  2014-12-12 20:10:02 UTC  "
            ]
          },
          "execution_count": 30,
          "metadata": {},
          "output_type": "execute_result"
        }
      ],
      "source": [
        "#Experience\n",
        "df_experience = pd.read_csv(\"C:/Users/Srushti/Desktop/capstone/Experience.csv\")\n",
        "df_experience.head(2)"
      ]
    },
    {
      "cell_type": "code",
      "execution_count": null,
      "metadata": {
        "colab": {
          "base_uri": "https://localhost:8080/",
          "height": 206
        },
        "id": "ja-MFdgwi91V",
        "outputId": "c31a83ce-4272-4b59-88dc-500fc9b62cc1"
      },
      "outputs": [
        {
          "data": {
            "text/html": [
              "<div>\n",
              "<style scoped>\n",
              "    .dataframe tbody tr th:only-of-type {\n",
              "        vertical-align: middle;\n",
              "    }\n",
              "\n",
              "    .dataframe tbody tr th {\n",
              "        vertical-align: top;\n",
              "    }\n",
              "\n",
              "    .dataframe thead th {\n",
              "        text-align: right;\n",
              "    }\n",
              "</style>\n",
              "<table border=\"1\" class=\"dataframe\">\n",
              "  <thead>\n",
              "    <tr style=\"text-align: right;\">\n",
              "      <th></th>\n",
              "      <th>Applicant.ID</th>\n",
              "      <th>Position.Name</th>\n",
              "    </tr>\n",
              "  </thead>\n",
              "  <tbody>\n",
              "    <tr>\n",
              "      <th>0</th>\n",
              "      <td>10001</td>\n",
              "      <td>account manager sales administration quality a...</td>\n",
              "    </tr>\n",
              "    <tr>\n",
              "      <th>1</th>\n",
              "      <td>10001</td>\n",
              "      <td>electronics technician item master controller</td>\n",
              "    </tr>\n",
              "    <tr>\n",
              "      <th>2</th>\n",
              "      <td>10001</td>\n",
              "      <td>machine operator</td>\n",
              "    </tr>\n",
              "    <tr>\n",
              "      <th>3</th>\n",
              "      <td>10003</td>\n",
              "      <td>maintenance technician</td>\n",
              "    </tr>\n",
              "    <tr>\n",
              "      <th>4</th>\n",
              "      <td>10003</td>\n",
              "      <td>electrical helper</td>\n",
              "    </tr>\n",
              "  </tbody>\n",
              "</table>\n",
              "</div>"
            ],
            "text/plain": [
              "   Applicant.ID                                      Position.Name\n",
              "0         10001  account manager sales administration quality a...\n",
              "1         10001      electronics technician item master controller\n",
              "2         10001                                   machine operator\n",
              "3         10003                             maintenance technician\n",
              "4         10003                                  electrical helper"
            ]
          },
          "execution_count": 31,
          "metadata": {},
          "output_type": "execute_result"
        }
      ],
      "source": [
        "#taking only Position\n",
        "df_experience= df_experience[['Applicant.ID','Position.Name']]\n",
        "#cleaning the text\n",
        "df_experience['Position.Name'] = df_experience['Position.Name'].map(str).apply(clean_txt)\n",
        "df_experience.head()\n"
      ]
    },
    {
      "cell_type": "code",
      "execution_count": null,
      "metadata": {
        "colab": {
          "base_uri": "https://localhost:8080/",
          "height": 206
        },
        "id": "HNwXMSLii93U",
        "outputId": "e8002775-cc08-4a78-b8c6-03ac86c1155a"
      },
      "outputs": [
        {
          "data": {
            "text/html": [
              "<div>\n",
              "<style scoped>\n",
              "    .dataframe tbody tr th:only-of-type {\n",
              "        vertical-align: middle;\n",
              "    }\n",
              "\n",
              "    .dataframe tbody tr th {\n",
              "        vertical-align: top;\n",
              "    }\n",
              "\n",
              "    .dataframe thead th {\n",
              "        text-align: right;\n",
              "    }\n",
              "</style>\n",
              "<table border=\"1\" class=\"dataframe\">\n",
              "  <thead>\n",
              "    <tr style=\"text-align: right;\">\n",
              "      <th></th>\n",
              "      <th>Applicant.ID</th>\n",
              "      <th>Position.Name</th>\n",
              "    </tr>\n",
              "  </thead>\n",
              "  <tbody>\n",
              "    <tr>\n",
              "      <th>2763</th>\n",
              "      <td>2</td>\n",
              "      <td>volunteer</td>\n",
              "    </tr>\n",
              "    <tr>\n",
              "      <th>2762</th>\n",
              "      <td>2</td>\n",
              "      <td>writer uloop blog</td>\n",
              "    </tr>\n",
              "    <tr>\n",
              "      <th>3759</th>\n",
              "      <td>3</td>\n",
              "      <td>market intern</td>\n",
              "    </tr>\n",
              "    <tr>\n",
              "      <th>3758</th>\n",
              "      <td>3</td>\n",
              "      <td>server</td>\n",
              "    </tr>\n",
              "    <tr>\n",
              "      <th>3757</th>\n",
              "      <td>3</td>\n",
              "      <td>prep cook</td>\n",
              "    </tr>\n",
              "  </tbody>\n",
              "</table>\n",
              "</div>"
            ],
            "text/plain": [
              "      Applicant.ID      Position.Name\n",
              "2763             2          volunteer\n",
              "2762             2  writer uloop blog\n",
              "3759             3      market intern\n",
              "3758             3             server\n",
              "3757             3          prep cook"
            ]
          },
          "execution_count": 32,
          "metadata": {},
          "output_type": "execute_result"
        }
      ],
      "source": [
        "df_experience =  df_experience.sort_values(by='Applicant.ID')\n",
        "df_experience = df_experience.fillna(\" \")\n",
        "df_experience.head()\n"
      ]
    },
    {
      "cell_type": "markdown",
      "metadata": {
        "id": "IuZHfgA0i93d"
      },
      "source": [
        "same applicant has 3 applications 100001 in sigle line so we need to join them"
      ]
    },
    {
      "cell_type": "code",
      "execution_count": null,
      "metadata": {
        "colab": {
          "base_uri": "https://localhost:8080/",
          "height": 206
        },
        "id": "CGkP-VYKi93f",
        "outputId": "0fe64ee6-58db-4fd9-f8b9-411e8e1d1c17"
      },
      "outputs": [
        {
          "data": {
            "text/html": [
              "<div>\n",
              "<style scoped>\n",
              "    .dataframe tbody tr th:only-of-type {\n",
              "        vertical-align: middle;\n",
              "    }\n",
              "\n",
              "    .dataframe tbody tr th {\n",
              "        vertical-align: top;\n",
              "    }\n",
              "\n",
              "    .dataframe thead th {\n",
              "        text-align: right;\n",
              "    }\n",
              "</style>\n",
              "<table border=\"1\" class=\"dataframe\">\n",
              "  <thead>\n",
              "    <tr style=\"text-align: right;\">\n",
              "      <th></th>\n",
              "      <th>Applicant.ID</th>\n",
              "      <th>Position.Name</th>\n",
              "    </tr>\n",
              "  </thead>\n",
              "  <tbody>\n",
              "    <tr>\n",
              "      <th>0</th>\n",
              "      <td>2</td>\n",
              "      <td>volunteer writer uloop blog</td>\n",
              "    </tr>\n",
              "    <tr>\n",
              "      <th>1</th>\n",
              "      <td>3</td>\n",
              "      <td>market intern server prep cook</td>\n",
              "    </tr>\n",
              "    <tr>\n",
              "      <th>2</th>\n",
              "      <td>6</td>\n",
              "      <td>project assistant</td>\n",
              "    </tr>\n",
              "    <tr>\n",
              "      <th>3</th>\n",
              "      <td>8</td>\n",
              "      <td>deli clerk server cashier food prep order taker</td>\n",
              "    </tr>\n",
              "    <tr>\n",
              "      <th>4</th>\n",
              "      <td>11</td>\n",
              "      <td>cashier</td>\n",
              "    </tr>\n",
              "  </tbody>\n",
              "</table>\n",
              "</div>"
            ],
            "text/plain": [
              "   Applicant.ID                                    Position.Name\n",
              "0             2                      volunteer writer uloop blog\n",
              "1             3                   market intern server prep cook\n",
              "2             6                                project assistant\n",
              "3             8  deli clerk server cashier food prep order taker\n",
              "4            11                                          cashier"
            ]
          },
          "execution_count": 33,
          "metadata": {},
          "output_type": "execute_result"
        }
      ],
      "source": [
        "#adding same rows to a single row\n",
        "df_experience = df_experience.groupby('Applicant.ID', sort=False)['Position.Name'].apply(' '.join).reset_index()\n",
        "df_experience.head(5)"
      ]
    },
    {
      "cell_type": "markdown",
      "metadata": {
        "id": "ViRav-wNi96g"
      },
      "source": [
        "### Position of Interest dataset"
      ]
    },
    {
      "cell_type": "code",
      "execution_count": null,
      "metadata": {
        "colab": {
          "base_uri": "https://localhost:8080/",
          "height": 206
        },
        "id": "r7_p37Nqi96j",
        "outputId": "9e4e4813-28fb-4871-89f8-45ca799ec537",
        "scrolled": true
      },
      "outputs": [
        {
          "data": {
            "text/html": [
              "<div>\n",
              "<style scoped>\n",
              "    .dataframe tbody tr th:only-of-type {\n",
              "        vertical-align: middle;\n",
              "    }\n",
              "\n",
              "    .dataframe tbody tr th {\n",
              "        vertical-align: top;\n",
              "    }\n",
              "\n",
              "    .dataframe thead th {\n",
              "        text-align: right;\n",
              "    }\n",
              "</style>\n",
              "<table border=\"1\" class=\"dataframe\">\n",
              "  <thead>\n",
              "    <tr style=\"text-align: right;\">\n",
              "      <th></th>\n",
              "      <th>Applicant.ID</th>\n",
              "      <th>Position.Of.Interest</th>\n",
              "      <th>Created.At</th>\n",
              "      <th>Updated.At</th>\n",
              "    </tr>\n",
              "  </thead>\n",
              "  <tbody>\n",
              "    <tr>\n",
              "      <th>6437</th>\n",
              "      <td>96</td>\n",
              "      <td>Server</td>\n",
              "      <td>2014-08-14 15:56:42 UTC</td>\n",
              "      <td>2015-02-26 20:35:12 UTC</td>\n",
              "    </tr>\n",
              "    <tr>\n",
              "      <th>1156</th>\n",
              "      <td>153</td>\n",
              "      <td>Barista</td>\n",
              "      <td>2014-08-14 15:56:43 UTC</td>\n",
              "      <td>2015-02-18 02:35:06 UTC</td>\n",
              "    </tr>\n",
              "    <tr>\n",
              "      <th>1155</th>\n",
              "      <td>153</td>\n",
              "      <td>Host</td>\n",
              "      <td>2014-08-14 15:56:42 UTC</td>\n",
              "      <td>2015-02-26 20:35:12 UTC</td>\n",
              "    </tr>\n",
              "    <tr>\n",
              "      <th>1154</th>\n",
              "      <td>153</td>\n",
              "      <td>Server</td>\n",
              "      <td>2014-08-14 15:56:42 UTC</td>\n",
              "      <td>2015-02-26 20:35:12 UTC</td>\n",
              "    </tr>\n",
              "    <tr>\n",
              "      <th>1158</th>\n",
              "      <td>153</td>\n",
              "      <td>Sales Rep</td>\n",
              "      <td>2014-08-14 15:56:47 UTC</td>\n",
              "      <td>2015-03-02 02:13:08 UTC</td>\n",
              "    </tr>\n",
              "  </tbody>\n",
              "</table>\n",
              "</div>"
            ],
            "text/plain": [
              "      Applicant.ID Position.Of.Interest               Created.At  \\\n",
              "6437            96               Server  2014-08-14 15:56:42 UTC   \n",
              "1156           153              Barista  2014-08-14 15:56:43 UTC   \n",
              "1155           153                 Host  2014-08-14 15:56:42 UTC   \n",
              "1154           153               Server  2014-08-14 15:56:42 UTC   \n",
              "1158           153            Sales Rep  2014-08-14 15:56:47 UTC   \n",
              "\n",
              "                   Updated.At  \n",
              "6437  2015-02-26 20:35:12 UTC  \n",
              "1156  2015-02-18 02:35:06 UTC  \n",
              "1155  2015-02-26 20:35:12 UTC  \n",
              "1154  2015-02-26 20:35:12 UTC  \n",
              "1158  2015-03-02 02:13:08 UTC  "
            ]
          },
          "execution_count": 34,
          "metadata": {},
          "output_type": "execute_result"
        }
      ],
      "source": [
        "#Position of interest\n",
        "df_poi =  pd.read_csv(\"C:/Users/Srushti/Desktop/capstone/Positions_Of_Interest.csv\", sep=',')\n",
        "df_poi = df_poi.sort_values(by='Applicant.ID')\n",
        "df_poi.head()"
      ]
    },
    {
      "cell_type": "code",
      "execution_count": null,
      "metadata": {
        "colab": {
          "base_uri": "https://localhost:8080/",
          "height": 432
        },
        "id": "P2yF-HLli963",
        "outputId": "341d7e18-cee6-49ad-fcf6-09870f05da90"
      },
      "outputs": [
        {
          "name": "stderr",
          "output_type": "stream",
          "text": [
            "C:\\Users\\Srushti\\AppData\\Local\\Temp\\ipykernel_16440\\1792386838.py:1: FutureWarning: In a future version of pandas all arguments of DataFrame.drop except for the argument 'labels' will be keyword-only.\n",
            "  df_poi = df_poi.drop('Updated.At', 1)\n",
            "C:\\Users\\Srushti\\AppData\\Local\\Temp\\ipykernel_16440\\1792386838.py:2: FutureWarning: In a future version of pandas all arguments of DataFrame.drop except for the argument 'labels' will be keyword-only.\n",
            "  df_poi = df_poi.drop('Created.At', 1)\n"
          ]
        },
        {
          "data": {
            "text/html": [
              "<div>\n",
              "<style scoped>\n",
              "    .dataframe tbody tr th:only-of-type {\n",
              "        vertical-align: middle;\n",
              "    }\n",
              "\n",
              "    .dataframe tbody tr th {\n",
              "        vertical-align: top;\n",
              "    }\n",
              "\n",
              "    .dataframe thead th {\n",
              "        text-align: right;\n",
              "    }\n",
              "</style>\n",
              "<table border=\"1\" class=\"dataframe\">\n",
              "  <thead>\n",
              "    <tr style=\"text-align: right;\">\n",
              "      <th></th>\n",
              "      <th>Applicant.ID</th>\n",
              "      <th>Position.Of.Interest</th>\n",
              "    </tr>\n",
              "  </thead>\n",
              "  <tbody>\n",
              "    <tr>\n",
              "      <th>6437</th>\n",
              "      <td>96</td>\n",
              "      <td>server</td>\n",
              "    </tr>\n",
              "    <tr>\n",
              "      <th>1156</th>\n",
              "      <td>153</td>\n",
              "      <td>barista</td>\n",
              "    </tr>\n",
              "    <tr>\n",
              "      <th>1155</th>\n",
              "      <td>153</td>\n",
              "      <td>host</td>\n",
              "    </tr>\n",
              "    <tr>\n",
              "      <th>1154</th>\n",
              "      <td>153</td>\n",
              "      <td>server</td>\n",
              "    </tr>\n",
              "    <tr>\n",
              "      <th>1158</th>\n",
              "      <td>153</td>\n",
              "      <td>sales rep</td>\n",
              "    </tr>\n",
              "    <tr>\n",
              "      <th>1157</th>\n",
              "      <td>153</td>\n",
              "      <td>customer service rep</td>\n",
              "    </tr>\n",
              "    <tr>\n",
              "      <th>1952</th>\n",
              "      <td>256</td>\n",
              "      <td>host</td>\n",
              "    </tr>\n",
              "    <tr>\n",
              "      <th>1957</th>\n",
              "      <td>256</td>\n",
              "      <td>production area</td>\n",
              "    </tr>\n",
              "    <tr>\n",
              "      <th>1956</th>\n",
              "      <td>256</td>\n",
              "      <td>sales rep</td>\n",
              "    </tr>\n",
              "    <tr>\n",
              "      <th>1955</th>\n",
              "      <td>256</td>\n",
              "      <td>customer service rep</td>\n",
              "    </tr>\n",
              "  </tbody>\n",
              "</table>\n",
              "</div>"
            ],
            "text/plain": [
              "      Applicant.ID  Position.Of.Interest\n",
              "6437            96                server\n",
              "1156           153               barista\n",
              "1155           153                  host\n",
              "1154           153                server\n",
              "1158           153             sales rep\n",
              "1157           153  customer service rep\n",
              "1952           256                  host\n",
              "1957           256       production area\n",
              "1956           256             sales rep\n",
              "1955           256  customer service rep"
            ]
          },
          "execution_count": 35,
          "metadata": {},
          "output_type": "execute_result"
        }
      ],
      "source": [
        "df_poi = df_poi.drop('Updated.At', 1)\n",
        "df_poi = df_poi.drop('Created.At', 1)\n",
        "\n",
        "#cleaning the text\n",
        "df_poi['Position.Of.Interest']=df_poi['Position.Of.Interest'].map(str).apply(clean_txt)\n",
        "df_poi = df_poi.fillna(\" \")\n",
        "df_poi.head(10)"
      ]
    },
    {
      "cell_type": "code",
      "execution_count": null,
      "metadata": {
        "colab": {
          "base_uri": "https://localhost:8080/",
          "height": 206
        },
        "id": "t3-6NMgmi97C",
        "outputId": "14f4d737-03eb-4da2-e7a3-6849bcc3ab24"
      },
      "outputs": [
        {
          "data": {
            "text/html": [
              "<div>\n",
              "<style scoped>\n",
              "    .dataframe tbody tr th:only-of-type {\n",
              "        vertical-align: middle;\n",
              "    }\n",
              "\n",
              "    .dataframe tbody tr th {\n",
              "        vertical-align: top;\n",
              "    }\n",
              "\n",
              "    .dataframe thead th {\n",
              "        text-align: right;\n",
              "    }\n",
              "</style>\n",
              "<table border=\"1\" class=\"dataframe\">\n",
              "  <thead>\n",
              "    <tr style=\"text-align: right;\">\n",
              "      <th></th>\n",
              "      <th>Applicant.ID</th>\n",
              "      <th>Position.Of.Interest</th>\n",
              "    </tr>\n",
              "  </thead>\n",
              "  <tbody>\n",
              "    <tr>\n",
              "      <th>0</th>\n",
              "      <td>96</td>\n",
              "      <td>server</td>\n",
              "    </tr>\n",
              "    <tr>\n",
              "      <th>1</th>\n",
              "      <td>153</td>\n",
              "      <td>barista host server sales rep customer service...</td>\n",
              "    </tr>\n",
              "    <tr>\n",
              "      <th>2</th>\n",
              "      <td>256</td>\n",
              "      <td>host production area sales rep customer servic...</td>\n",
              "    </tr>\n",
              "    <tr>\n",
              "      <th>3</th>\n",
              "      <td>438</td>\n",
              "      <td>customer service rep barista host server</td>\n",
              "    </tr>\n",
              "    <tr>\n",
              "      <th>4</th>\n",
              "      <td>568</td>\n",
              "      <td>receptionist customer service rep book keeper</td>\n",
              "    </tr>\n",
              "  </tbody>\n",
              "</table>\n",
              "</div>"
            ],
            "text/plain": [
              "   Applicant.ID                               Position.Of.Interest\n",
              "0            96                                             server\n",
              "1           153  barista host server sales rep customer service...\n",
              "2           256  host production area sales rep customer servic...\n",
              "3           438           customer service rep barista host server\n",
              "4           568      receptionist customer service rep book keeper"
            ]
          },
          "execution_count": 36,
          "metadata": {},
          "output_type": "execute_result"
        }
      ],
      "source": [
        "df_poi = df_poi.groupby('Applicant.ID', sort=True)['Position.Of.Interest'].apply(' '.join).reset_index()\n",
        "df_poi.head()"
      ]
    },
    {
      "cell_type": "markdown",
      "metadata": {
        "id": "qxm-uf21i9-_"
      },
      "source": [
        "## Creating the final user dataset by merging all the users datasets"
      ]
    },
    {
      "cell_type": "markdown",
      "metadata": {
        "id": "fjonoNwwi9_J"
      },
      "source": [
        "Merging jobs and experience dataframes"
      ]
    },
    {
      "cell_type": "code",
      "execution_count": null,
      "metadata": {
        "colab": {
          "base_uri": "https://localhost:8080/",
          "height": 206
        },
        "id": "9fgZBqJBi9_L",
        "outputId": "9c186be0-12bd-415b-e592-5a49b808b3ec",
        "scrolled": true
      },
      "outputs": [
        {
          "data": {
            "text/html": [
              "<div>\n",
              "<style scoped>\n",
              "    .dataframe tbody tr th:only-of-type {\n",
              "        vertical-align: middle;\n",
              "    }\n",
              "\n",
              "    .dataframe tbody tr th {\n",
              "        vertical-align: top;\n",
              "    }\n",
              "\n",
              "    .dataframe thead th {\n",
              "        text-align: right;\n",
              "    }\n",
              "</style>\n",
              "<table border=\"1\" class=\"dataframe\">\n",
              "  <thead>\n",
              "    <tr style=\"text-align: right;\">\n",
              "      <th></th>\n",
              "      <th>Applicant.ID</th>\n",
              "      <th>select_pos_com_city</th>\n",
              "      <th>Position.Name</th>\n",
              "    </tr>\n",
              "  </thead>\n",
              "  <tbody>\n",
              "    <tr>\n",
              "      <th>12370</th>\n",
              "      <td>2</td>\n",
              "      <td></td>\n",
              "      <td>volunteer writer uloop blog</td>\n",
              "    </tr>\n",
              "    <tr>\n",
              "      <th>12371</th>\n",
              "      <td>3</td>\n",
              "      <td></td>\n",
              "      <td>market intern server prep cook</td>\n",
              "    </tr>\n",
              "    <tr>\n",
              "      <th>12372</th>\n",
              "      <td>6</td>\n",
              "      <td></td>\n",
              "      <td>project assistant</td>\n",
              "    </tr>\n",
              "    <tr>\n",
              "      <th>12373</th>\n",
              "      <td>8</td>\n",
              "      <td></td>\n",
              "      <td>deli clerk server cashier food prep order taker</td>\n",
              "    </tr>\n",
              "    <tr>\n",
              "      <th>12374</th>\n",
              "      <td>11</td>\n",
              "      <td></td>\n",
              "      <td>cashier</td>\n",
              "    </tr>\n",
              "  </tbody>\n",
              "</table>\n",
              "</div>"
            ],
            "text/plain": [
              "       Applicant.ID select_pos_com_city  \\\n",
              "12370             2                       \n",
              "12371             3                       \n",
              "12372             6                       \n",
              "12373             8                       \n",
              "12374            11                       \n",
              "\n",
              "                                         Position.Name  \n",
              "12370                      volunteer writer uloop blog  \n",
              "12371                   market intern server prep cook  \n",
              "12372                                project assistant  \n",
              "12373  deli clerk server cashier food prep order taker  \n",
              "12374                                          cashier  "
            ]
          },
          "execution_count": 37,
          "metadata": {},
          "output_type": "execute_result"
        }
      ],
      "source": [
        "\n",
        "df_jobs_exp = df_job_view.merge(df_experience, left_on='Applicant.ID', right_on='Applicant.ID', how='outer')\n",
        "df_jobs_exp = df_jobs_exp.fillna(' ')\n",
        "df_jobs_exp = df_jobs_exp.sort_values(by='Applicant.ID')\n",
        "df_jobs_exp.head()"
      ]
    },
    {
      "cell_type": "markdown",
      "metadata": {
        "id": "uEVjjnFNkBE0"
      },
      "source": [
        "Merging position of interest with existing dataframe"
      ]
    },
    {
      "cell_type": "code",
      "execution_count": null,
      "metadata": {
        "colab": {
          "base_uri": "https://localhost:8080/",
          "height": 206
        },
        "id": "ZbbkRFwRi9_0",
        "outputId": "bec1f721-324b-4600-fc68-743cbe831fc2"
      },
      "outputs": [
        {
          "data": {
            "text/html": [
              "<div>\n",
              "<style scoped>\n",
              "    .dataframe tbody tr th:only-of-type {\n",
              "        vertical-align: middle;\n",
              "    }\n",
              "\n",
              "    .dataframe tbody tr th {\n",
              "        vertical-align: top;\n",
              "    }\n",
              "\n",
              "    .dataframe thead th {\n",
              "        text-align: right;\n",
              "    }\n",
              "</style>\n",
              "<table border=\"1\" class=\"dataframe\">\n",
              "  <thead>\n",
              "    <tr style=\"text-align: right;\">\n",
              "      <th></th>\n",
              "      <th>Applicant.ID</th>\n",
              "      <th>select_pos_com_city</th>\n",
              "      <th>Position.Name</th>\n",
              "      <th>Position.Of.Interest</th>\n",
              "    </tr>\n",
              "  </thead>\n",
              "  <tbody>\n",
              "    <tr>\n",
              "      <th>0</th>\n",
              "      <td>2</td>\n",
              "      <td></td>\n",
              "      <td>volunteer writer uloop blog</td>\n",
              "      <td></td>\n",
              "    </tr>\n",
              "    <tr>\n",
              "      <th>1</th>\n",
              "      <td>3</td>\n",
              "      <td></td>\n",
              "      <td>market intern server prep cook</td>\n",
              "      <td></td>\n",
              "    </tr>\n",
              "    <tr>\n",
              "      <th>2</th>\n",
              "      <td>6</td>\n",
              "      <td></td>\n",
              "      <td>project assistant</td>\n",
              "      <td></td>\n",
              "    </tr>\n",
              "    <tr>\n",
              "      <th>3</th>\n",
              "      <td>8</td>\n",
              "      <td></td>\n",
              "      <td>deli clerk server cashier food prep order taker</td>\n",
              "      <td></td>\n",
              "    </tr>\n",
              "    <tr>\n",
              "      <th>4</th>\n",
              "      <td>11</td>\n",
              "      <td></td>\n",
              "      <td>cashier</td>\n",
              "      <td></td>\n",
              "    </tr>\n",
              "  </tbody>\n",
              "</table>\n",
              "</div>"
            ],
            "text/plain": [
              "   Applicant.ID select_pos_com_city  \\\n",
              "0             2                       \n",
              "1             3                       \n",
              "2             6                       \n",
              "3             8                       \n",
              "4            11                       \n",
              "\n",
              "                                     Position.Name Position.Of.Interest  \n",
              "0                      volunteer writer uloop blog                       \n",
              "1                   market intern server prep cook                       \n",
              "2                                project assistant                       \n",
              "3  deli clerk server cashier food prep order taker                       \n",
              "4                                          cashier                       "
            ]
          },
          "execution_count": 38,
          "metadata": {},
          "output_type": "execute_result"
        }
      ],
      "source": [
        "\n",
        "df_jobs_exp_poi = df_jobs_exp.merge(df_poi, left_on='Applicant.ID', right_on='Applicant.ID', how='outer')\n",
        "df_jobs_exp_poi = df_jobs_exp_poi.fillna(' ')\n",
        "df_jobs_exp_poi = df_jobs_exp_poi.sort_values(by='Applicant.ID')\n",
        "df_jobs_exp_poi.head()"
      ]
    },
    {
      "cell_type": "markdown",
      "metadata": {
        "id": "Jd7xk8DMkGKu"
      },
      "source": [
        "combining all the columns"
      ]
    },
    {
      "cell_type": "code",
      "execution_count": null,
      "metadata": {
        "colab": {
          "base_uri": "https://localhost:8080/",
          "height": 206
        },
        "id": "0erpkGz_i-AU",
        "outputId": "b60d15bd-4986-4e8c-a2ff-531db224f28d"
      },
      "outputs": [
        {
          "data": {
            "text/html": [
              "<div>\n",
              "<style scoped>\n",
              "    .dataframe tbody tr th:only-of-type {\n",
              "        vertical-align: middle;\n",
              "    }\n",
              "\n",
              "    .dataframe tbody tr th {\n",
              "        vertical-align: top;\n",
              "    }\n",
              "\n",
              "    .dataframe thead th {\n",
              "        text-align: right;\n",
              "    }\n",
              "</style>\n",
              "<table border=\"1\" class=\"dataframe\">\n",
              "  <thead>\n",
              "    <tr style=\"text-align: right;\">\n",
              "      <th></th>\n",
              "      <th>Applicant.ID</th>\n",
              "      <th>select_pos_com_city</th>\n",
              "      <th>Position.Name</th>\n",
              "      <th>Position.Of.Interest</th>\n",
              "      <th>text</th>\n",
              "    </tr>\n",
              "  </thead>\n",
              "  <tbody>\n",
              "    <tr>\n",
              "      <th>0</th>\n",
              "      <td>2</td>\n",
              "      <td></td>\n",
              "      <td>volunteer writer uloop blog</td>\n",
              "      <td></td>\n",
              "      <td>volunteer writer uloop blog</td>\n",
              "    </tr>\n",
              "    <tr>\n",
              "      <th>1</th>\n",
              "      <td>3</td>\n",
              "      <td></td>\n",
              "      <td>market intern server prep cook</td>\n",
              "      <td></td>\n",
              "      <td>market intern server prep cook</td>\n",
              "    </tr>\n",
              "    <tr>\n",
              "      <th>2</th>\n",
              "      <td>6</td>\n",
              "      <td></td>\n",
              "      <td>project assistant</td>\n",
              "      <td></td>\n",
              "      <td>project assistant</td>\n",
              "    </tr>\n",
              "    <tr>\n",
              "      <th>3</th>\n",
              "      <td>8</td>\n",
              "      <td></td>\n",
              "      <td>deli clerk server cashier food prep order taker</td>\n",
              "      <td></td>\n",
              "      <td>deli clerk server cashier food prep order tak...</td>\n",
              "    </tr>\n",
              "    <tr>\n",
              "      <th>4</th>\n",
              "      <td>11</td>\n",
              "      <td></td>\n",
              "      <td>cashier</td>\n",
              "      <td></td>\n",
              "      <td>cashier</td>\n",
              "    </tr>\n",
              "  </tbody>\n",
              "</table>\n",
              "</div>"
            ],
            "text/plain": [
              "   Applicant.ID select_pos_com_city  \\\n",
              "0             2                       \n",
              "1             3                       \n",
              "2             6                       \n",
              "3             8                       \n",
              "4            11                       \n",
              "\n",
              "                                     Position.Name Position.Of.Interest  \\\n",
              "0                      volunteer writer uloop blog                        \n",
              "1                   market intern server prep cook                        \n",
              "2                                project assistant                        \n",
              "3  deli clerk server cashier food prep order taker                        \n",
              "4                                          cashier                        \n",
              "\n",
              "                                                text  \n",
              "0                      volunteer writer uloop blog    \n",
              "1                   market intern server prep cook    \n",
              "2                                project assistant    \n",
              "3   deli clerk server cashier food prep order tak...  \n",
              "4                                          cashier    "
            ]
          },
          "execution_count": 39,
          "metadata": {},
          "output_type": "execute_result"
        }
      ],
      "source": [
        "df_jobs_exp_poi[\"text\"] = df_jobs_exp_poi[\"select_pos_com_city\"].map(str) + df_jobs_exp_poi[\"Position.Name\"] +\" \"+ df_jobs_exp_poi[\"Position.Of.Interest\"]\n",
        "\n",
        "df_jobs_exp_poi.head()"
      ]
    },
    {
      "cell_type": "markdown",
      "metadata": {
        "id": "lhaSvxRlkMRg"
      },
      "source": [
        "Select only \"Applicant.ID\" and \"text\" columns:"
      ]
    },
    {
      "cell_type": "code",
      "execution_count": null,
      "metadata": {
        "colab": {
          "base_uri": "https://localhost:8080/",
          "height": 206
        },
        "id": "d-CvLfx0i-Ac",
        "outputId": "00891178-88c2-4cd0-f573-78fd0e246773"
      },
      "outputs": [
        {
          "data": {
            "text/html": [
              "<div>\n",
              "<style scoped>\n",
              "    .dataframe tbody tr th:only-of-type {\n",
              "        vertical-align: middle;\n",
              "    }\n",
              "\n",
              "    .dataframe tbody tr th {\n",
              "        vertical-align: top;\n",
              "    }\n",
              "\n",
              "    .dataframe thead th {\n",
              "        text-align: right;\n",
              "    }\n",
              "</style>\n",
              "<table border=\"1\" class=\"dataframe\">\n",
              "  <thead>\n",
              "    <tr style=\"text-align: right;\">\n",
              "      <th></th>\n",
              "      <th>Applicant.ID</th>\n",
              "      <th>text</th>\n",
              "    </tr>\n",
              "  </thead>\n",
              "  <tbody>\n",
              "    <tr>\n",
              "      <th>0</th>\n",
              "      <td>2</td>\n",
              "      <td>volunteer writer uloop blog</td>\n",
              "    </tr>\n",
              "    <tr>\n",
              "      <th>1</th>\n",
              "      <td>3</td>\n",
              "      <td>market intern server prep cook</td>\n",
              "    </tr>\n",
              "    <tr>\n",
              "      <th>2</th>\n",
              "      <td>6</td>\n",
              "      <td>project assistant</td>\n",
              "    </tr>\n",
              "    <tr>\n",
              "      <th>3</th>\n",
              "      <td>8</td>\n",
              "      <td>deli clerk server cashier food prep order tak...</td>\n",
              "    </tr>\n",
              "    <tr>\n",
              "      <th>4</th>\n",
              "      <td>11</td>\n",
              "      <td>cashier</td>\n",
              "    </tr>\n",
              "  </tbody>\n",
              "</table>\n",
              "</div>"
            ],
            "text/plain": [
              "   Applicant.ID                                               text\n",
              "0             2                      volunteer writer uloop blog  \n",
              "1             3                   market intern server prep cook  \n",
              "2             6                                project assistant  \n",
              "3             8   deli clerk server cashier food prep order tak...\n",
              "4            11                                          cashier  "
            ]
          },
          "execution_count": 40,
          "metadata": {},
          "output_type": "execute_result"
        }
      ],
      "source": [
        "df_final_person= df_jobs_exp_poi[['Applicant.ID','text']]\n",
        "df_final_person.head()"
      ]
    },
    {
      "cell_type": "code",
      "execution_count": null,
      "metadata": {
        "colab": {
          "base_uri": "https://localhost:8080/",
          "height": 206
        },
        "id": "N-FyhEaei-Bx",
        "outputId": "7325d7dd-ec1e-4466-cbc5-692061796ee0"
      },
      "outputs": [
        {
          "data": {
            "text/html": [
              "<div>\n",
              "<style scoped>\n",
              "    .dataframe tbody tr th:only-of-type {\n",
              "        vertical-align: middle;\n",
              "    }\n",
              "\n",
              "    .dataframe tbody tr th {\n",
              "        vertical-align: top;\n",
              "    }\n",
              "\n",
              "    .dataframe thead th {\n",
              "        text-align: right;\n",
              "    }\n",
              "</style>\n",
              "<table border=\"1\" class=\"dataframe\">\n",
              "  <thead>\n",
              "    <tr style=\"text-align: right;\">\n",
              "      <th></th>\n",
              "      <th>Applicant_id</th>\n",
              "      <th>text</th>\n",
              "    </tr>\n",
              "  </thead>\n",
              "  <tbody>\n",
              "    <tr>\n",
              "      <th>0</th>\n",
              "      <td>2</td>\n",
              "      <td>volunteer writer uloop blog</td>\n",
              "    </tr>\n",
              "    <tr>\n",
              "      <th>1</th>\n",
              "      <td>3</td>\n",
              "      <td>market intern server prep cook</td>\n",
              "    </tr>\n",
              "    <tr>\n",
              "      <th>2</th>\n",
              "      <td>6</td>\n",
              "      <td>project assistant</td>\n",
              "    </tr>\n",
              "    <tr>\n",
              "      <th>3</th>\n",
              "      <td>8</td>\n",
              "      <td>deli clerk server cashier food prep order tak...</td>\n",
              "    </tr>\n",
              "    <tr>\n",
              "      <th>4</th>\n",
              "      <td>11</td>\n",
              "      <td>cashier</td>\n",
              "    </tr>\n",
              "  </tbody>\n",
              "</table>\n",
              "</div>"
            ],
            "text/plain": [
              "   Applicant_id                                               text\n",
              "0             2                      volunteer writer uloop blog  \n",
              "1             3                   market intern server prep cook  \n",
              "2             6                                project assistant  \n",
              "3             8   deli clerk server cashier food prep order tak...\n",
              "4            11                                          cashier  "
            ]
          },
          "execution_count": 41,
          "metadata": {},
          "output_type": "execute_result"
        }
      ],
      "source": [
        "df_final_person.columns = ['Applicant_id','text']\n",
        "df_final_person.head()"
      ]
    },
    {
      "cell_type": "code",
      "execution_count": null,
      "metadata": {
        "colab": {
          "base_uri": "https://localhost:8080/",
          "height": 310
        },
        "id": "MsR23gsCi-EP",
        "outputId": "67c94a75-c78e-43fa-a27e-c03e60f63473"
      },
      "outputs": [
        {
          "name": "stderr",
          "output_type": "stream",
          "text": [
            "C:\\Users\\Srushti\\AppData\\Local\\Temp\\ipykernel_16440\\4089577716.py:1: SettingWithCopyWarning: \n",
            "A value is trying to be set on a copy of a slice from a DataFrame.\n",
            "Try using .loc[row_indexer,col_indexer] = value instead\n",
            "\n",
            "See the caveats in the documentation: https://pandas.pydata.org/pandas-docs/stable/user_guide/indexing.html#returning-a-view-versus-a-copy\n",
            "  df_final_person['text'] = df_final_person['text'].apply(clean_txt)\n"
          ]
        },
        {
          "data": {
            "text/html": [
              "<div>\n",
              "<style scoped>\n",
              "    .dataframe tbody tr th:only-of-type {\n",
              "        vertical-align: middle;\n",
              "    }\n",
              "\n",
              "    .dataframe tbody tr th {\n",
              "        vertical-align: top;\n",
              "    }\n",
              "\n",
              "    .dataframe thead th {\n",
              "        text-align: right;\n",
              "    }\n",
              "</style>\n",
              "<table border=\"1\" class=\"dataframe\">\n",
              "  <thead>\n",
              "    <tr style=\"text-align: right;\">\n",
              "      <th></th>\n",
              "      <th>Applicant_id</th>\n",
              "      <th>text</th>\n",
              "    </tr>\n",
              "  </thead>\n",
              "  <tbody>\n",
              "    <tr>\n",
              "      <th>0</th>\n",
              "      <td>2</td>\n",
              "      <td>volunteer writer uloop blog</td>\n",
              "    </tr>\n",
              "    <tr>\n",
              "      <th>1</th>\n",
              "      <td>3</td>\n",
              "      <td>market intern server prep cook</td>\n",
              "    </tr>\n",
              "    <tr>\n",
              "      <th>2</th>\n",
              "      <td>6</td>\n",
              "      <td>project assistant</td>\n",
              "    </tr>\n",
              "    <tr>\n",
              "      <th>3</th>\n",
              "      <td>8</td>\n",
              "      <td>deli clerk server cashier food prep order taker</td>\n",
              "    </tr>\n",
              "    <tr>\n",
              "      <th>4</th>\n",
              "      <td>11</td>\n",
              "      <td>cashier</td>\n",
              "    </tr>\n",
              "  </tbody>\n",
              "</table>\n",
              "</div>"
            ],
            "text/plain": [
              "   Applicant_id                                             text\n",
              "0             2                      volunteer writer uloop blog\n",
              "1             3                   market intern server prep cook\n",
              "2             6                                project assistant\n",
              "3             8  deli clerk server cashier food prep order taker\n",
              "4            11                                          cashier"
            ]
          },
          "execution_count": 42,
          "metadata": {},
          "output_type": "execute_result"
        }
      ],
      "source": [
        "df_final_person['text'] = df_final_person['text'].apply(clean_txt)\n",
        "df_final_person.head()\n"
      ]
    },
    {
      "cell_type": "markdown",
      "metadata": {
        "id": "k9pmGcuTi-PM"
      },
      "source": [
        "### For test the recommender we select the user  which ID is 326"
      ]
    },
    {
      "cell_type": "code",
      "execution_count": null,
      "metadata": {
        "colab": {
          "base_uri": "https://localhost:8080/",
          "height": 89
        },
        "id": "97VSGKYNi-PO",
        "outputId": "3b2e02a7-e3c9-4f7e-ed7a-26bc507248b3"
      },
      "outputs": [
        {
          "data": {
            "text/html": [
              "<div>\n",
              "<style scoped>\n",
              "    .dataframe tbody tr th:only-of-type {\n",
              "        vertical-align: middle;\n",
              "    }\n",
              "\n",
              "    .dataframe tbody tr th {\n",
              "        vertical-align: top;\n",
              "    }\n",
              "\n",
              "    .dataframe thead th {\n",
              "        text-align: right;\n",
              "    }\n",
              "</style>\n",
              "<table border=\"1\" class=\"dataframe\">\n",
              "  <thead>\n",
              "    <tr style=\"text-align: right;\">\n",
              "      <th></th>\n",
              "      <th>Applicant_id</th>\n",
              "      <th>text</th>\n",
              "    </tr>\n",
              "  </thead>\n",
              "  <tbody>\n",
              "    <tr>\n",
              "      <th>186</th>\n",
              "      <td>326</td>\n",
              "      <td>java developer</td>\n",
              "    </tr>\n",
              "  </tbody>\n",
              "</table>\n",
              "</div>"
            ],
            "text/plain": [
              "     Applicant_id            text\n",
              "186           326  java developer"
            ]
          },
          "execution_count": 43,
          "metadata": {},
          "output_type": "execute_result"
        }
      ],
      "source": [
        "u = 326\n",
        "index = np.where(df_final_person['Applicant_id'] == u)[0][0]\n",
        "user_q = df_final_person.iloc[[index]]\n",
        "user_q"
      ]
    },
    {
      "cell_type": "markdown",
      "metadata": {
        "id": "A70HLEH-i-PZ"
      },
      "source": [
        "## The recommender systems\n"
      ]
    },
    {
      "cell_type": "markdown",
      "metadata": {
        "id": "gTuiU3-rldbv"
      },
      "source": [
        "#### Computing cosine similarity using tfidf"
      ]
    },
    {
      "cell_type": "code",
      "execution_count": null,
      "metadata": {
        "id": "nFKWoQlTi-RZ"
      },
      "outputs": [],
      "source": [
        "\n",
        "from sklearn.metrics.pairwise import cosine_similarity\n",
        "user_tfidf = tfidf_vectorizer.transform(user_q['text'])\n",
        "cos_similarity_tfidf = map(lambda x: cosine_similarity(user_tfidf, x),tfidf_jobid)\n"
      ]
    },
    {
      "cell_type": "code",
      "execution_count": null,
      "metadata": {
        "colab": {
          "base_uri": "https://localhost:8080/"
        },
        "id": "WqQgoCDGpK3r",
        "outputId": "a5c3de99-d04f-4062-9428-5c26b731ae11"
      },
      "outputs": [
        {
          "name": "stdout",
          "output_type": "stream",
          "text": [
            "  (0, 23985)\t0.7479647932040747\n",
            "  (0, 12245)\t0.6637384033843347\n"
          ]
        }
      ],
      "source": [
        "print(user_tfidf)\n"
      ]
    },
    {
      "cell_type": "code",
      "execution_count": null,
      "metadata": {
        "id": "ZRrtCGjBpVId"
      },
      "outputs": [],
      "source": [
        "arrays_of_list = user_tfidf.tolil().data\n",
        "lol = arrays_of_list.tolist()"
      ]
    },
    {
      "cell_type": "code",
      "execution_count": null,
      "metadata": {
        "colab": {
          "base_uri": "https://localhost:8080/"
        },
        "id": "jVe8W-RqpcNS",
        "outputId": "bce3b517-f256-4e10-8bf8-d67d56d9a3db"
      },
      "outputs": [
        {
          "name": "stdout",
          "output_type": "stream",
          "text": [
            "[[0.6637384033843347, 0.7479647932040747]]\n"
          ]
        }
      ],
      "source": [
        "print(lol)"
      ]
    },
    {
      "cell_type": "code",
      "execution_count": null,
      "metadata": {
        "id": "-0Fqp_y2i-Rg"
      },
      "outputs": [],
      "source": [
        "output2 = list(cos_similarity_tfidf)"
      ]
    },
    {
      "cell_type": "markdown",
      "metadata": {
        "id": "MVS9zWx0lReE"
      },
      "source": [
        "###  Function to get the top-N recomendations order by score"
      ]
    },
    {
      "cell_type": "code",
      "execution_count": null,
      "metadata": {
        "id": "7eH1ykkV2LMH"
      },
      "outputs": [],
      "source": [
        "\n",
        "def get_recommendation(top, df_all, scores):\n",
        "  recommendation = pd.DataFrame(columns = ['ApplicantID', 'JobID',  'title', 'score'])\n",
        "  count = 0\n",
        "  for i in top:\n",
        "      recommendation.at[count, 'ApplicantID'] = u\n",
        "      recommendation.at[count, 'JobID'] = df_all['Job.ID'][i]\n",
        "      recommendation.at[count, 'title'] = df_all['Title'][i]\n",
        "      recommendation.at[count, 'score'] =  scores[count]\n",
        "      count += 1\n",
        "  return recommendation"
      ]
    },
    {
      "cell_type": "markdown",
      "metadata": {
        "id": "3q6kwBO42MFS"
      },
      "source": [
        "## The top recommendations using TF-IDF"
      ]
    },
    {
      "cell_type": "code",
      "execution_count": null,
      "metadata": {
        "colab": {
          "base_uri": "https://localhost:8080/",
          "height": 363
        },
        "id": "skW2QC8ni-Rm",
        "outputId": "0f7874e1-b5c5-4741-c4a3-162fef1a7ca0"
      },
      "outputs": [
        {
          "data": {
            "text/html": [
              "<div>\n",
              "<style scoped>\n",
              "    .dataframe tbody tr th:only-of-type {\n",
              "        vertical-align: middle;\n",
              "    }\n",
              "\n",
              "    .dataframe tbody tr th {\n",
              "        vertical-align: top;\n",
              "    }\n",
              "\n",
              "    .dataframe thead th {\n",
              "        text-align: right;\n",
              "    }\n",
              "</style>\n",
              "<table border=\"1\" class=\"dataframe\">\n",
              "  <thead>\n",
              "    <tr style=\"text-align: right;\">\n",
              "      <th></th>\n",
              "      <th>ApplicantID</th>\n",
              "      <th>JobID</th>\n",
              "      <th>title</th>\n",
              "      <th>score</th>\n",
              "    </tr>\n",
              "  </thead>\n",
              "  <tbody>\n",
              "    <tr>\n",
              "      <th>0</th>\n",
              "      <td>326</td>\n",
              "      <td>303112</td>\n",
              "      <td>Java Developer @ TransHire</td>\n",
              "      <td>0.749478</td>\n",
              "    </tr>\n",
              "    <tr>\n",
              "      <th>1</th>\n",
              "      <td>326</td>\n",
              "      <td>294684</td>\n",
              "      <td>Java Developer @ Kavaliro</td>\n",
              "      <td>0.740886</td>\n",
              "    </tr>\n",
              "    <tr>\n",
              "      <th>2</th>\n",
              "      <td>326</td>\n",
              "      <td>269922</td>\n",
              "      <td>Entry Level Java Developer / Jr. Java Develope...</td>\n",
              "      <td>0.737007</td>\n",
              "    </tr>\n",
              "    <tr>\n",
              "      <th>3</th>\n",
              "      <td>326</td>\n",
              "      <td>141831</td>\n",
              "      <td>Lead Java/J2EE Developer - Contract to Hire @ ...</td>\n",
              "      <td>0.671667</td>\n",
              "    </tr>\n",
              "    <tr>\n",
              "      <th>4</th>\n",
              "      <td>326</td>\n",
              "      <td>270171</td>\n",
              "      <td>Senior Java Developer - Contract to Hire - Gre...</td>\n",
              "      <td>0.645037</td>\n",
              "    </tr>\n",
              "    <tr>\n",
              "      <th>5</th>\n",
              "      <td>326</td>\n",
              "      <td>305264</td>\n",
              "      <td>Sr. Java Developer @ Paladin Consulting Inc</td>\n",
              "      <td>0.625532</td>\n",
              "    </tr>\n",
              "    <tr>\n",
              "      <th>6</th>\n",
              "      <td>326</td>\n",
              "      <td>309945</td>\n",
              "      <td>Java Software Engineer @ iTech Solutions, Inc.</td>\n",
              "      <td>0.592291</td>\n",
              "    </tr>\n",
              "    <tr>\n",
              "      <th>7</th>\n",
              "      <td>326</td>\n",
              "      <td>245753</td>\n",
              "      <td>Java Administrator @ ConsultNet</td>\n",
              "      <td>0.530231</td>\n",
              "    </tr>\n",
              "    <tr>\n",
              "      <th>8</th>\n",
              "      <td>326</td>\n",
              "      <td>146640</td>\n",
              "      <td>Jr. Java Developer @ Paladin Consulting Inc</td>\n",
              "      <td>0.510534</td>\n",
              "    </tr>\n",
              "    <tr>\n",
              "      <th>9</th>\n",
              "      <td>326</td>\n",
              "      <td>150882</td>\n",
              "      <td>Java Consultant - Mobile Apps Development @ Co...</td>\n",
              "      <td>0.486789</td>\n",
              "    </tr>\n",
              "  </tbody>\n",
              "</table>\n",
              "</div>"
            ],
            "text/plain": [
              "  ApplicantID   JobID                                              title  \\\n",
              "0         326  303112                         Java Developer @ TransHire   \n",
              "1         326  294684                          Java Developer @ Kavaliro   \n",
              "2         326  269922  Entry Level Java Developer / Jr. Java Develope...   \n",
              "3         326  141831  Lead Java/J2EE Developer - Contract to Hire @ ...   \n",
              "4         326  270171  Senior Java Developer - Contract to Hire - Gre...   \n",
              "5         326  305264        Sr. Java Developer @ Paladin Consulting Inc   \n",
              "6         326  309945     Java Software Engineer @ iTech Solutions, Inc.   \n",
              "7         326  245753                    Java Administrator @ ConsultNet   \n",
              "8         326  146640        Jr. Java Developer @ Paladin Consulting Inc   \n",
              "9         326  150882  Java Consultant - Mobile Apps Development @ Co...   \n",
              "\n",
              "      score  \n",
              "0  0.749478  \n",
              "1  0.740886  \n",
              "2  0.737007  \n",
              "3  0.671667  \n",
              "4  0.645037  \n",
              "5  0.625532  \n",
              "6  0.592291  \n",
              "7  0.530231  \n",
              "8  0.510534  \n",
              "9  0.486789  "
            ]
          },
          "execution_count": 50,
          "metadata": {},
          "output_type": "execute_result"
        }
      ],
      "source": [
        "top = sorted(range(len(output2)), key=lambda i: output2[i], reverse=True)[:10]\n",
        "list_scores = [output2[i][0][0] for i in top]\n",
        "get_recommendation(top,df_all, list_scores)"
      ]
    },
    {
      "cell_type": "markdown",
      "metadata": {
        "id": "WD_l1LVNj7KH"
      },
      "source": [
        "### Using Count Vectorizer"
      ]
    },
    {
      "cell_type": "code",
      "execution_count": null,
      "metadata": {
        "colab": {
          "base_uri": "https://localhost:8080/"
        },
        "id": "q0Ju2uBSj4ee",
        "outputId": "963b3ba6-bfb1-407b-a3a8-6259aef8eecd"
      },
      "outputs": [
        {
          "data": {
            "text/plain": [
              "<84090x50754 sparse matrix of type '<class 'numpy.int64'>'\n",
              "\twith 8263698 stored elements in Compressed Sparse Row format>"
            ]
          },
          "execution_count": 68,
          "metadata": {},
          "output_type": "execute_result"
        }
      ],
      "source": [
        "from sklearn.feature_extraction.text import CountVectorizer\n",
        "count_vectorizer = CountVectorizer()\n",
        "\n",
        "count_jobid = count_vectorizer.fit_transform((df_all['text'])) #fitting and transforming the vector\n",
        "count_jobid"
      ]
    },
    {
      "cell_type": "code",
      "execution_count": null,
      "metadata": {
        "id": "rZc8ppjskbxW"
      },
      "outputs": [],
      "source": [
        "from sklearn.metrics.pairwise import cosine_similarity\n",
        "user_count = count_vectorizer.transform(user_q['text'])\n",
        "cos_similarity_countv = map(lambda x: cosine_similarity(user_count, x),count_jobid)\n"
      ]
    },
    {
      "cell_type": "code",
      "execution_count": null,
      "metadata": {
        "id": "ZS-26e7Nr3qm"
      },
      "outputs": [],
      "source": [
        "output2 = list(cos_similarity_countv)"
      ]
    },
    {
      "cell_type": "markdown",
      "metadata": {
        "id": "vB-NKStz16Dt"
      },
      "source": [
        "## The top recommendations using CountVectorizer"
      ]
    },
    {
      "cell_type": "code",
      "execution_count": null,
      "metadata": {
        "colab": {
          "base_uri": "https://localhost:8080/",
          "height": 363
        },
        "id": "nUvJp2Dvkvg0",
        "outputId": "96cf4199-9412-4daa-a95b-e448ed658a16"
      },
      "outputs": [
        {
          "data": {
            "text/html": [
              "\n",
              "  <div id=\"df-4dc22f4b-cfc1-4901-89b9-3b1e12f39231\" class=\"colab-df-container\">\n",
              "    <div>\n",
              "<style scoped>\n",
              "    .dataframe tbody tr th:only-of-type {\n",
              "        vertical-align: middle;\n",
              "    }\n",
              "\n",
              "    .dataframe tbody tr th {\n",
              "        vertical-align: top;\n",
              "    }\n",
              "\n",
              "    .dataframe thead th {\n",
              "        text-align: right;\n",
              "    }\n",
              "</style>\n",
              "<table border=\"1\" class=\"dataframe\">\n",
              "  <thead>\n",
              "    <tr style=\"text-align: right;\">\n",
              "      <th></th>\n",
              "      <th>ApplicantID</th>\n",
              "      <th>JobID</th>\n",
              "      <th>title</th>\n",
              "      <th>score</th>\n",
              "    </tr>\n",
              "  </thead>\n",
              "  <tbody>\n",
              "    <tr>\n",
              "      <th>0</th>\n",
              "      <td>326</td>\n",
              "      <td>303112</td>\n",
              "      <td>Java Developer @ TransHire</td>\n",
              "      <td>0.635001</td>\n",
              "    </tr>\n",
              "    <tr>\n",
              "      <th>1</th>\n",
              "      <td>326</td>\n",
              "      <td>294684</td>\n",
              "      <td>Java Developer @ Kavaliro</td>\n",
              "      <td>0.600245</td>\n",
              "    </tr>\n",
              "    <tr>\n",
              "      <th>2</th>\n",
              "      <td>326</td>\n",
              "      <td>269922</td>\n",
              "      <td>Entry Level Java Developer / Jr. Java Develope...</td>\n",
              "      <td>0.571726</td>\n",
              "    </tr>\n",
              "    <tr>\n",
              "      <th>3</th>\n",
              "      <td>326</td>\n",
              "      <td>141831</td>\n",
              "      <td>Lead Java/J2EE Developer - Contract to Hire @ ...</td>\n",
              "      <td>0.496907</td>\n",
              "    </tr>\n",
              "    <tr>\n",
              "      <th>4</th>\n",
              "      <td>326</td>\n",
              "      <td>270171</td>\n",
              "      <td>Senior Java Developer - Contract to Hire - Gre...</td>\n",
              "      <td>0.481757</td>\n",
              "    </tr>\n",
              "    <tr>\n",
              "      <th>5</th>\n",
              "      <td>326</td>\n",
              "      <td>309945</td>\n",
              "      <td>Java Software Engineer @ iTech Solutions, Inc.</td>\n",
              "      <td>0.454673</td>\n",
              "    </tr>\n",
              "    <tr>\n",
              "      <th>6</th>\n",
              "      <td>326</td>\n",
              "      <td>305264</td>\n",
              "      <td>Sr. Java Developer @ Paladin Consulting Inc</td>\n",
              "      <td>0.406017</td>\n",
              "    </tr>\n",
              "    <tr>\n",
              "      <th>7</th>\n",
              "      <td>326</td>\n",
              "      <td>245753</td>\n",
              "      <td>Java Administrator @ ConsultNet</td>\n",
              "      <td>0.378968</td>\n",
              "    </tr>\n",
              "    <tr>\n",
              "      <th>8</th>\n",
              "      <td>326</td>\n",
              "      <td>150882</td>\n",
              "      <td>Java Consultant - Mobile Apps Development @ Co...</td>\n",
              "      <td>0.363216</td>\n",
              "    </tr>\n",
              "    <tr>\n",
              "      <th>9</th>\n",
              "      <td>326</td>\n",
              "      <td>146640</td>\n",
              "      <td>Jr. Java Developer @ Paladin Consulting Inc</td>\n",
              "      <td>0.323381</td>\n",
              "    </tr>\n",
              "  </tbody>\n",
              "</table>\n",
              "</div>\n",
              "    <div class=\"colab-df-buttons\">\n",
              "\n",
              "  <div class=\"colab-df-container\">\n",
              "    <button class=\"colab-df-convert\" onclick=\"convertToInteractive('df-4dc22f4b-cfc1-4901-89b9-3b1e12f39231')\"\n",
              "            title=\"Convert this dataframe to an interactive table.\"\n",
              "            style=\"display:none;\">\n",
              "\n",
              "  <svg xmlns=\"http://www.w3.org/2000/svg\" height=\"24px\" viewBox=\"0 -960 960 960\">\n",
              "    <path d=\"M120-120v-720h720v720H120Zm60-500h600v-160H180v160Zm220 220h160v-160H400v160Zm0 220h160v-160H400v160ZM180-400h160v-160H180v160Zm440 0h160v-160H620v160ZM180-180h160v-160H180v160Zm440 0h160v-160H620v160Z\"/>\n",
              "  </svg>\n",
              "    </button>\n",
              "\n",
              "  <style>\n",
              "    .colab-df-container {\n",
              "      display:flex;\n",
              "      gap: 12px;\n",
              "    }\n",
              "\n",
              "    .colab-df-convert {\n",
              "      background-color: #E8F0FE;\n",
              "      border: none;\n",
              "      border-radius: 50%;\n",
              "      cursor: pointer;\n",
              "      display: none;\n",
              "      fill: #1967D2;\n",
              "      height: 32px;\n",
              "      padding: 0 0 0 0;\n",
              "      width: 32px;\n",
              "    }\n",
              "\n",
              "    .colab-df-convert:hover {\n",
              "      background-color: #E2EBFA;\n",
              "      box-shadow: 0px 1px 2px rgba(60, 64, 67, 0.3), 0px 1px 3px 1px rgba(60, 64, 67, 0.15);\n",
              "      fill: #174EA6;\n",
              "    }\n",
              "\n",
              "    .colab-df-buttons div {\n",
              "      margin-bottom: 4px;\n",
              "    }\n",
              "\n",
              "    [theme=dark] .colab-df-convert {\n",
              "      background-color: #3B4455;\n",
              "      fill: #D2E3FC;\n",
              "    }\n",
              "\n",
              "    [theme=dark] .colab-df-convert:hover {\n",
              "      background-color: #434B5C;\n",
              "      box-shadow: 0px 1px 3px 1px rgba(0, 0, 0, 0.15);\n",
              "      filter: drop-shadow(0px 1px 2px rgba(0, 0, 0, 0.3));\n",
              "      fill: #FFFFFF;\n",
              "    }\n",
              "  </style>\n",
              "\n",
              "    <script>\n",
              "      const buttonEl =\n",
              "        document.querySelector('#df-4dc22f4b-cfc1-4901-89b9-3b1e12f39231 button.colab-df-convert');\n",
              "      buttonEl.style.display =\n",
              "        google.colab.kernel.accessAllowed ? 'block' : 'none';\n",
              "\n",
              "      async function convertToInteractive(key) {\n",
              "        const element = document.querySelector('#df-4dc22f4b-cfc1-4901-89b9-3b1e12f39231');\n",
              "        const dataTable =\n",
              "          await google.colab.kernel.invokeFunction('convertToInteractive',\n",
              "                                                    [key], {});\n",
              "        if (!dataTable) return;\n",
              "\n",
              "        const docLinkHtml = 'Like what you see? Visit the ' +\n",
              "          '<a target=\"_blank\" href=https://colab.research.google.com/notebooks/data_table.ipynb>data table notebook</a>'\n",
              "          + ' to learn more about interactive tables.';\n",
              "        element.innerHTML = '';\n",
              "        dataTable['output_type'] = 'display_data';\n",
              "        await google.colab.output.renderOutput(dataTable, element);\n",
              "        const docLink = document.createElement('div');\n",
              "        docLink.innerHTML = docLinkHtml;\n",
              "        element.appendChild(docLink);\n",
              "      }\n",
              "    </script>\n",
              "  </div>\n",
              "\n",
              "\n",
              "<div id=\"df-718f4124-2749-47e4-8d8c-ceddb718f130\">\n",
              "  <button class=\"colab-df-quickchart\" onclick=\"quickchart('df-718f4124-2749-47e4-8d8c-ceddb718f130')\"\n",
              "            title=\"Suggest charts.\"\n",
              "            style=\"display:none;\">\n",
              "\n",
              "<svg xmlns=\"http://www.w3.org/2000/svg\" height=\"24px\"viewBox=\"0 0 24 24\"\n",
              "     width=\"24px\">\n",
              "    <g>\n",
              "        <path d=\"M19 3H5c-1.1 0-2 .9-2 2v14c0 1.1.9 2 2 2h14c1.1 0 2-.9 2-2V5c0-1.1-.9-2-2-2zM9 17H7v-7h2v7zm4 0h-2V7h2v10zm4 0h-2v-4h2v4z\"/>\n",
              "    </g>\n",
              "</svg>\n",
              "  </button>\n",
              "\n",
              "<style>\n",
              "  .colab-df-quickchart {\n",
              "    background-color: #E8F0FE;\n",
              "    border: none;\n",
              "    border-radius: 50%;\n",
              "    cursor: pointer;\n",
              "    display: none;\n",
              "    fill: #1967D2;\n",
              "    height: 32px;\n",
              "    padding: 0 0 0 0;\n",
              "    width: 32px;\n",
              "  }\n",
              "\n",
              "  .colab-df-quickchart:hover {\n",
              "    background-color: #E2EBFA;\n",
              "    box-shadow: 0px 1px 2px rgba(60, 64, 67, 0.3), 0px 1px 3px 1px rgba(60, 64, 67, 0.15);\n",
              "    fill: #174EA6;\n",
              "  }\n",
              "\n",
              "  [theme=dark] .colab-df-quickchart {\n",
              "    background-color: #3B4455;\n",
              "    fill: #D2E3FC;\n",
              "  }\n",
              "\n",
              "  [theme=dark] .colab-df-quickchart:hover {\n",
              "    background-color: #434B5C;\n",
              "    box-shadow: 0px 1px 3px 1px rgba(0, 0, 0, 0.15);\n",
              "    filter: drop-shadow(0px 1px 2px rgba(0, 0, 0, 0.3));\n",
              "    fill: #FFFFFF;\n",
              "  }\n",
              "</style>\n",
              "\n",
              "  <script>\n",
              "    async function quickchart(key) {\n",
              "      const charts = await google.colab.kernel.invokeFunction(\n",
              "          'suggestCharts', [key], {});\n",
              "    }\n",
              "    (() => {\n",
              "      let quickchartButtonEl =\n",
              "        document.querySelector('#df-718f4124-2749-47e4-8d8c-ceddb718f130 button');\n",
              "      quickchartButtonEl.style.display =\n",
              "        google.colab.kernel.accessAllowed ? 'block' : 'none';\n",
              "    })();\n",
              "  </script>\n",
              "</div>\n",
              "    </div>\n",
              "  </div>\n"
            ],
            "text/plain": [
              "  ApplicantID   JobID                                              title  \\\n",
              "0         326  303112                         Java Developer @ TransHire   \n",
              "1         326  294684                          Java Developer @ Kavaliro   \n",
              "2         326  269922  Entry Level Java Developer / Jr. Java Develope...   \n",
              "3         326  141831  Lead Java/J2EE Developer - Contract to Hire @ ...   \n",
              "4         326  270171  Senior Java Developer - Contract to Hire - Gre...   \n",
              "5         326  309945     Java Software Engineer @ iTech Solutions, Inc.   \n",
              "6         326  305264        Sr. Java Developer @ Paladin Consulting Inc   \n",
              "7         326  245753                    Java Administrator @ ConsultNet   \n",
              "8         326  150882  Java Consultant - Mobile Apps Development @ Co...   \n",
              "9         326  146640        Jr. Java Developer @ Paladin Consulting Inc   \n",
              "\n",
              "      score  \n",
              "0  0.635001  \n",
              "1  0.600245  \n",
              "2  0.571726  \n",
              "3  0.496907  \n",
              "4  0.481757  \n",
              "5  0.454673  \n",
              "6  0.406017  \n",
              "7  0.378968  \n",
              "8  0.363216  \n",
              "9  0.323381  "
            ]
          },
          "execution_count": 71,
          "metadata": {},
          "output_type": "execute_result"
        }
      ],
      "source": [
        "top = sorted(range(len(output2)), key=lambda i: output2[i], reverse=True)[:10]\n",
        "list_scores = [output2[i][0][0] for i in top]\n",
        "get_recommendation(top, df_all, list_scores)"
      ]
    }
  ],
  "metadata": {
    "accelerator": "GPU",
    "colab": {
      "provenance": []
    },
    "kernelspec": {
      "display_name": "Python 3",
      "name": "python3"
    },
    "language_info": {
      "codemirror_mode": {
        "name": "ipython",
        "version": 3
      },
      "file_extension": ".py",
      "mimetype": "text/x-python",
      "name": "python",
      "nbconvert_exporter": "python",
      "pygments_lexer": "ipython3",
      "version": "3.10.7"
    }
  },
  "nbformat": 4,
  "nbformat_minor": 0
}
